{
 "cells": [
  {
   "cell_type": "code",
   "execution_count": null,
   "metadata": {},
   "outputs": [],
   "source": [
    "import pandas as pd\n",
    "import numpy as np\n",
    "\n",
    "import matplotlib.pyplot as plt\n",
    "import seaborn as sns\n",
    "\n",
    "from sklearn.model_selection import train_test_split, cross_validate\n",
    "from sklearn.preprocessing import StandardScaler, OneHotEncoder\n",
    "from sklearn.impute import SimpleImputer\n",
    "from sklearn.compose import ColumnTransformer\n",
    "from sklearn.pipeline import Pipeline\n",
    "from sklearn.linear_model import LogisticRegression\n",
    "from sklearn.neighbors import KNeighborsClassifier\n",
    "from sklearn.metrics import (accuracy_score, precision_score,\n",
    "                             recall_score, f1_score, classification_report, \n",
    "                             ConfusionMatrixDisplay)\n",
    "\n",
    "from sklearn import set_config\n",
    "set_config(transform_output=\"pandas\")\n",
    "\n",
    "from category_encoders import HashingEncoder\n",
    "\n",
    "import sqlite3\n",
    "\n",
    "from imblearn.over_sampling import RandomOverSampler, SMOTE, ADASYN\n",
    "from imblearn.under_sampling import RandomUnderSampler\n",
    "from imblearn.pipeline import make_pipeline\n",
    "\n",
    "from sklearn.metrics import accuracy_score, precision_score, recall_score, f1_score, classification_report, ConfusionMatrixDisplay\n",
    "\n",
    "from sklearn.neighbors import KNeighborsClassifier\n",
    "from sklearn.preprocessing import StandardScaler\n",
    "\n",
    "from sklearn.metrics import roc_auc_score, RocCurveDisplay, PrecisionRecallDisplay\n",
    "\n",
    "import joblib\n",
    "\n"
   ]
  },
  {
   "cell_type": "code",
   "execution_count": null,
   "metadata": {},
   "outputs": [],
   "source": [
    "# # First \t1\tEnable GPU Runtime:\n",
    "# \t•\tGo to \"Runtime\" -> \"Change runtime type\".\n",
    "# \t•\tSelect \"GPU\" as the hardware accelerator.\n",
    "# \t•\tClick \"Save\"."
   ]
  },
  {
   "cell_type": "code",
   "execution_count": null,
   "metadata": {},
   "outputs": [],
   "source": [
    "# # Install a specific CUDA version\n",
    "# !apt-get --purge remove cuda nvidia* libnvidia-*\n",
    "# !dpkg -l | grep cuda- | awk '{print $2}' | xargs -n1 dpkg --purge\n",
    "# !apt-get remove cuda-*\n",
    "# !apt autoremove\n",
    "# !apt-get update\n",
    "\n",
    "# # Install CUDA 11.x\n",
    "# !wget https://developer.download.nvidia.com/compute/cuda/repos/ubuntu1804/x86_64/cuda-ubuntu1804.pin\n",
    "# !mv cuda-ubuntu1804.pin /etc/apt/preferences.d/cuda-repository-pin-600\n",
    "# !wget https://developer.download.nvidia.com/compute/cuda/11.8.0/local_installers/cuda-repo-ubuntu1804-11-8-local_11.8.0-520.61.05-1_amd64.deb\n",
    "# !dpkg -i cuda-repo-ubuntu1804-11-8-local_11.8.0-520.61.05-1_amd64.deb\n",
    "# !cp /var/cuda-repo-ubuntu1804-11-8-local/cuda-*-*.pub /tmp/cuda-*-*.pub\n",
    "# !apt-key add /tmp/cuda-*-*.pub\n",
    "# !apt-get update\n",
    "# !apt-get -y install cuda"
   ]
  },
  {
   "cell_type": "code",
   "execution_count": null,
   "metadata": {},
   "outputs": [],
   "source": [
    "# !pip install cudf-cu11 --extra-index-url=https://pypi.nvidia.com"
   ]
  },
  {
   "cell_type": "code",
   "execution_count": null,
   "metadata": {},
   "outputs": [],
   "source": [
    "# import cudf  # this should work without any errors"
   ]
  },
  {
   "cell_type": "code",
   "execution_count": null,
   "metadata": {},
   "outputs": [],
   "source": [
    "# %load_ext cudf.pandas\n",
    "# # Google Colab: Add `%load_ext cudf.pandas` before importing pandas to speed up operations using GPU (musr first choose runtime that is a GPU)"
   ]
  },
  {
   "cell_type": "code",
   "execution_count": null,
   "metadata": {},
   "outputs": [],
   "source": []
  },
  {
   "cell_type": "code",
   "execution_count": null,
   "metadata": {},
   "outputs": [],
   "source": [
    "# saving preprocessor for future use\n",
    "to_save = {\"preprocessor\" : preprocessor,\n",
    "           \"porch_func\" : porch_func}\n",
    "filename = \"preprocessor.joblib\"\n",
    "\n",
    "joblib.dump(to_save, filename)"
   ]
  },
  {
   "cell_type": "code",
   "execution_count": null,
   "metadata": {},
   "outputs": [],
   "source": [
    "# # Clone the entire repo.\n",
    "# !git clone -l -s git://github.com/jakevdp/PythonDataScienceHandbook.git cloned-repo\n",
    "# %cd cloned-repo\n",
    "# !ls"
   ]
  },
  {
   "cell_type": "code",
   "execution_count": null,
   "metadata": {},
   "outputs": [],
   "source": [
    "# # Fetch a single <1MB file using the raw GitHub URL.\n",
    "# !curl --remote-name \\\n",
    "#      -H 'Accept: application/vnd.github.v3.raw' \\\n",
    "#      --location https://api.github.com/repos/jakevdp/PythonDataScienceHandbook/contents/notebooks/data/california_cities.csv"
   ]
  },
  {
   "cell_type": "code",
   "execution_count": null,
   "metadata": {},
   "outputs": [],
   "source": []
  },
  {
   "cell_type": "code",
   "execution_count": null,
   "metadata": {},
   "outputs": [],
   "source": [
    "# Run only once!\n",
    "import os\n",
    "print(os.getcwd())\n",
    "os.chdir('../..')\n",
    "print(os.getcwd())"
   ]
  },
  {
   "cell_type": "code",
   "execution_count": null,
   "metadata": {},
   "outputs": [],
   "source": [
    "local_prepend = \"../..\"\n",
    "input_path = \"/kaggle/input/home-credit-default-risk/\"\n",
    "# kaggle_notebook_input_path = \"/kaggle/input/home-credit-default-risk/\"\n",
    "\n",
    "# con = sqlite3.connect(local_prepend + input_path + \"home-credit-default-risk.sqlite\") # connect to database\n",
    "# pd.read_csv(local_prepend + input_path + \"application_train.csv\").to_sql(\"application_train\", con, if_exists='append', index=False, index_label=\"SK_ID_CURR\")\n",
    "\n",
    "# application_train = pd.read_csv(local_prepend + input_path + \"application_train.csv\")\n",
    "\n",
    "# bureau_balance = pd.read_csv(local_prepend + input_path + \"bureau_balance.csv\")\n",
    "# bureau = pd.read_csv(local_prepend + input_path + \"bureau.csv\")\n",
    "# credit_card_balance = pd.read_csv(local_prepend + input_path + \"credit_card_balance.csv\")\n",
    "# installments_payments = pd.read_csv(local_prepend + input_path + \"installments_payments.csv\")\n",
    "# POS_CASH_balance = pd.read_csv(local_prepend + input_path + \"POS_CASH_balance.csv\")\n",
    "# previous_application = pd.read_csv(local_prepend + input_path + \"previous_application.csv\")\n",
    "\n",
    "# Description of columns in provided datasets\n",
    "HomeCredit_columns_description = pd.read_csv(local_prepend + input_path + \"HomeCredit_columns_description.csv\", encoding = \"latin\")\n",
    "\n",
    "# # Test Data for later use\n",
    "# application_test = pd.read_csv(local_prepend + input_path + \"application_test.csv\")"
   ]
  },
  {
   "cell_type": "code",
   "execution_count": null,
   "metadata": {},
   "outputs": [],
   "source": [
    "HomeCredit_columns_description"
   ]
  },
  {
   "cell_type": "code",
   "execution_count": null,
   "metadata": {},
   "outputs": [],
   "source": [
    "HomeCredit_columns_description[HomeCredit_columns_description[\"Table\"] == \"application_{train|test}.csv\"][[\"Row\", \"Description\"]]"
   ]
  },
  {
   "cell_type": "code",
   "execution_count": null,
   "metadata": {},
   "outputs": [],
   "source": [
    "pd.set_option(\"display.max_rows\", 200)\n",
    "pd.set_option(\"display.max_colwidth\", None)"
   ]
  },
  {
   "cell_type": "code",
   "execution_count": null,
   "metadata": {},
   "outputs": [],
   "source": [
    "HomeCredit_columns_description[~HomeCredit_columns_description[\"Special\"].isna()]"
   ]
  },
  {
   "cell_type": "code",
   "execution_count": null,
   "metadata": {},
   "outputs": [],
   "source": [
    "\n",
    "# dfs_to_merge = [bureau, previous_application, POS_CASH_balance, credit_card_balance]\n",
    "\n",
    "# for df in dfs_to_merge:\n",
    "#     application_train = pd.merge(application_train, df, how=\"inner\", on=\"SK_ID_CURR\")\n",
    "\n",
    "# application_train.shape"
   ]
  },
  {
   "cell_type": "code",
   "execution_count": null,
   "metadata": {},
   "outputs": [],
   "source": [
    "application_train = pd.merge(application_train, bureau, how=\"left\", on=\"SK_ID_CURR\")\n",
    "application_train = application_train.drop_duplicates(subset=[\"SK_ID_CURR\"])\n",
    "application_train = pd.merge(application_train, previous_application, how=\"left\", on=\"SK_ID_CURR\")\n",
    "application_train = application_train.drop_duplicates(subset=[\"SK_ID_CURR\"])\n",
    "application_train = pd.merge(application_train, POS_CASH_balance, how=\"left\", on=\"SK_ID_CURR\")\n",
    "application_train = application_train.drop_duplicates(subset=[\"SK_ID_CURR\"])\n",
    "application_train = pd.merge(application_train, credit_card_balance, how=\"left\", on=\"SK_ID_CURR\")\n",
    "application_train = application_train.drop_duplicates(subset=[\"SK_ID_CURR\"])"
   ]
  },
  {
   "cell_type": "code",
   "execution_count": null,
   "metadata": {},
   "outputs": [],
   "source": [
    "application_train.select_dtypes(include='object')"
   ]
  },
  {
   "cell_type": "code",
   "execution_count": null,
   "metadata": {},
   "outputs": [],
   "source": [
    "object_cols = application_train.select_dtypes(include='object').columns.to_list()\n",
    "\n",
    "for col in object_cols:\n",
    "    print(application_train[col].value_counts())"
   ]
  },
  {
   "cell_type": "code",
   "execution_count": null,
   "metadata": {},
   "outputs": [],
   "source": [
    "df_num = application_train.select_dtypes(include='number')\n",
    "df_num"
   ]
  },
  {
   "cell_type": "code",
   "execution_count": null,
   "metadata": {},
   "outputs": [],
   "source": [
    "# df_num = df_num.dropna()\n",
    "# df_num"
   ]
  },
  {
   "cell_type": "code",
   "execution_count": null,
   "metadata": {},
   "outputs": [],
   "source": [
    "df_num = df_num.drop_duplicates(subset=[\"SK_ID_CURR\"])\n",
    "df_num"
   ]
  },
  {
   "cell_type": "code",
   "execution_count": null,
   "metadata": {},
   "outputs": [],
   "source": [
    "# Generate a mask for the upper triangle\n",
    "mask = np.zeros_like(df_num.corr(), dtype=np.bool)\n",
    "mask[np.triu_indices_from(mask)] = True\n",
    "\n",
    "# Draw the heatmap with the mask and correct aspect ratio\n",
    "sns.heatmap(df_num.corr().where(lambda x: abs(x)>0.5), mask=mask, square=True)"
   ]
  },
  {
   "cell_type": "code",
   "execution_count": null,
   "metadata": {},
   "outputs": [],
   "source": [
    "# split data\n",
    "X = df_num.drop(columns=[\"TARGET\", \"SK_ID_CURR\"])\n",
    "y = df_num[\"TARGET\"].copy()"
   ]
  },
  {
   "cell_type": "code",
   "execution_count": null,
   "metadata": {},
   "outputs": [],
   "source": [
    "# Training split:\n",
    "X_train, X_test, y_train, y_test = train_test_split(X, y, test_size=0.8, random_state=42)\n",
    "\n",
    "num_cols = X.columns.to_list()\n",
    "\n",
    "# Create Transformers\n",
    "zero_imputer = SimpleImputer(strategy=\"constant\", fill_value=0)\n",
    "# scaler = StandardScaler()\n",
    "\n",
    "# Create tuples\n",
    "impute_tuple = (\"imputation\", zero_imputer, num_cols)\n",
    "# scaler_tuple = (\"scaling\", scaler, num_cols)\n",
    "\n",
    "\n",
    "# Create ColumnTransformer\n",
    "preprocessor = ColumnTransformer(\n",
    "    transformers=[impute_tuple], remainder=\"passthrough\",\n",
    "    verbose_feature_names_out=True)\n",
    "\n",
    "# Test preprocessor\n",
    "preprocessor.fit(X_train)\n",
    "X_train_proc = preprocessor.transform(X_train)\n",
    "X_test_proc = preprocessor.transform(X_test)\n",
    "X_val_proc = preprocessor.transform(X_val)"
   ]
  },
  {
   "cell_type": "code",
   "execution_count": null,
   "metadata": {},
   "outputs": [],
   "source": [
    "logreg_balanced = LogisticRegression(max_iter=1000, class_weight=\"balanced\")\n",
    "\n",
    "logreg_balanced_pipe = make_pipeline(StandardScaler(), logreg_balanced)\n",
    "\n",
    "logreg_balanced_pipe.fit(X_train_proc, y_train)\n",
    "\n",
    "# balanced_results = eval_classification(logreg_balanced_pipe, X_train_proc, y_train, X_test_proc, y_test,\n",
    "#                               model_name=\"Logistic Regression Balanced Class Weights\")\n",
    "\n",
    "# balanced_results\n",
    "\n",
    "print(\"Train\")\n",
    "print(classification_report(y_train, train_pred))\n",
    "print(\"Test\")\n",
    "print(classification_report(y_test, test_pred))"
   ]
  },
  {
   "cell_type": "code",
   "execution_count": null,
   "metadata": {},
   "outputs": [],
   "source": [
    "# from sklearn.model_selection import GridSearchCV\n",
    "\n",
    "# knn = KNeighborsClassifier()\n",
    "# param_space = {'n_neighbors': range(3,8)}\n",
    "# knn_gs = GridSearchCV(knn, param_space)\n",
    "# knn_gs.fit(X_train_proc, y_train)\n",
    "# best_knn = knn_gs.best_estimator_\n",
    "# best_knn"
   ]
  },
  {
   "cell_type": "code",
   "execution_count": null,
   "metadata": {},
   "outputs": [],
   "source": [
    "knn_pipe = Pipeline([(\"scaler\", StandardScaler()), (\"knn\", best_knn)])\n",
    "\n",
    "knn_pipe.fit(X_train_proc, y_train)"
   ]
  },
  {
   "cell_type": "code",
   "execution_count": null,
   "metadata": {},
   "outputs": [],
   "source": [
    "zero_imputer.fit(X)\n",
    "\n",
    "zero_X = zero_imputer.transform(X)\n",
    "knn_pipe2 = Pipeline([(\"scaler\", StandardScaler()), \n",
    "                      (\"knn\", KNeighborsClassifier(n_neighbors=6))])\n",
    "\n",
    "knn_pipe2.fit(zero_X, y) \n",
    "\n",
    "zero_X_cols = zero_X.columns.to_list()\n"
   ]
  },
  {
   "cell_type": "code",
   "execution_count": null,
   "metadata": {},
   "outputs": [],
   "source": [
    "test_data_file = \"application_test.csv\"\n",
    "test_data = pd.read_csv(local_prepend + input_path + test_data_file)\n",
    "\n",
    "test_data = pd.merge(test_data, bureau, how=\"left\", on=\"SK_ID_CURR\")\n",
    "test_data = test_data.drop_duplicates(subset=[\"SK_ID_CURR\"])\n",
    "test_data = pd.merge(test_data, previous_application, how=\"left\", on=\"SK_ID_CURR\")\n",
    "test_data = test_data.drop_duplicates(subset=[\"SK_ID_CURR\"])\n",
    "test_data = pd.merge(test_data, POS_CASH_balance, how=\"left\", on=\"SK_ID_CURR\")\n",
    "test_data = test_data.drop_duplicates(subset=[\"SK_ID_CURR\"])\n",
    "test_data = pd.merge(test_data, credit_card_balance, how=\"left\", on=\"SK_ID_CURR\")\n",
    "test_data = test_data.drop_duplicates(subset=[\"SK_ID_CURR\"])\n",
    "\n",
    "ids = test_data.pop(\"SK_ID_CURR\")\n",
    "\n",
    "test_data = test_data[zero_X_cols]\n",
    "\n",
    "zero_test = zero_imputer.transform(test_data)\n",
    "\n",
    "preds = knn_pipe2.predict_proba(zero_test)[:,1]\n",
    "\n",
    "output = pd.DataFrame({\"SK_ID_CURR\": ids,\n",
    "                       \"TARGET\": preds})"
   ]
  },
  {
   "cell_type": "code",
   "execution_count": null,
   "metadata": {},
   "outputs": [],
   "source": [
    "output"
   ]
  },
  {
   "cell_type": "code",
   "execution_count": null,
   "metadata": {},
   "outputs": [],
   "source": [
    "sample_submission_file = \"sample_submission.csv\"\n",
    "sample_submission_df = pd.read_csv(local_prepend + input_path + sample_submission_file)\n",
    "sample_submission_df[\"TARGET\"] = preds\n",
    "sample_submission_df.to_csv(\"00f_more_merges.csv\", index=False)\n",
    "sample_submission_df.head()"
   ]
  },
  {
   "cell_type": "code",
   "execution_count": null,
   "metadata": {},
   "outputs": [],
   "source": [
    "# # create a logistic regression\n",
    "# log_reg = LogisticRegression(max_iter=100000, random_state=42)\n",
    "# log_reg.fit(X_train_proc, y_train)\n",
    "# log_reg.predict_proba(X_test_proc)[:,0]"
   ]
  },
  {
   "cell_type": "code",
   "execution_count": null,
   "metadata": {},
   "outputs": [],
   "source": [
    "eval_classification(best_knn, X_train_proc, y_train, X_test_proc, y_test, model_name=\"best knn\", results_frame=None,\n",
    "                        pos_label=1, average=\"binary\")"
   ]
  },
  {
   "cell_type": "code",
   "execution_count": null,
   "metadata": {},
   "outputs": [],
   "source": [
    "from imblearn.over_sampling import RandomOverSampler, SMOTE, ADASYN\n",
    "from imblearn.under_sampling import RandomUnderSampler\n",
    "from imblearn.pipeline import make_pipeline"
   ]
  },
  {
   "cell_type": "code",
   "execution_count": null,
   "metadata": {},
   "outputs": [],
   "source": [
    "y_train.value_counts()"
   ]
  }
 ],
 "metadata": {
  "kernelspec": {
   "display_name": "datascience",
   "language": "python",
   "name": "python3"
  },
  "language_info": {
   "codemirror_mode": {
    "name": "ipython",
    "version": 3
   },
   "file_extension": ".py",
   "mimetype": "text/x-python",
   "name": "python",
   "nbconvert_exporter": "python",
   "pygments_lexer": "ipython3",
   "version": "3.12.9"
  }
 },
 "nbformat": 4,
 "nbformat_minor": 2
}
