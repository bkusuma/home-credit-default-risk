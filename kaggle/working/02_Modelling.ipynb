{
  "cells": [
    {
      "cell_type": "markdown",
      "metadata": {},
      "source": [
        "# Paths"
      ]
    },
    {
      "cell_type": "code",
      "execution_count": 79,
      "metadata": {},
      "outputs": [],
      "source": [
        "## local machine\n",
        "src_path = '../src'\n",
        "lib_path = '../lib/'\n",
        "input_path = '../../kaggle/input/home-credit-default-risk/'"
      ]
    },
    {
      "cell_type": "code",
      "execution_count": 80,
      "metadata": {
        "colab": {
          "base_uri": "https://localhost:8080/"
        },
        "id": "m91X3UCehefH",
        "outputId": "9325da7e-2173-4955-fea2-e88fa0402074"
      },
      "outputs": [],
      "source": [
        "# # Google Colab\n",
        "# # Load the Drive helper and mount\n",
        "# from google.colab import drive\n",
        "\n",
        "# # This will prompt for authorization.\n",
        "# drive.mount('/content/drive')\n",
        "\n",
        "# # After executing above, Drive files will be accessible in path \"/content/drive/MyDrive\"\n",
        "\n",
        "# # Google Colab\n",
        "# src_path = '/content/drive/MyDrive/kaggle/src'\n",
        "# lib_path = '/content/drive/MyDrive/kaggle/lib'\n",
        "# input_path = '/content/drive/MyDrive/kaggle/input/home-credit-default-risk/'"
      ]
    },
    {
      "cell_type": "code",
      "execution_count": 81,
      "metadata": {},
      "outputs": [],
      "source": [
        "# # Kaggle\n",
        "# src_path = '/kaggle/src'\n",
        "# lib_path = '/kaggle/lib/'\n",
        "# input_path = '/kaggle/input/home-credit-default-risk/'"
      ]
    },
    {
      "cell_type": "markdown",
      "metadata": {
        "id": "nv8ivy2MhefE"
      },
      "source": [
        "# Imports"
      ]
    },
    {
      "cell_type": "code",
      "execution_count": 82,
      "metadata": {
        "id": "6b8K-qBlhefF"
      },
      "outputs": [],
      "source": [
        "import pandas as pd\n",
        "pd.set_option(\"display.max_columns\", 200)\n",
        "\n",
        "import numpy as np\n",
        "\n",
        "import matplotlib.pyplot as plt\n",
        "\n",
        "import seaborn as sns\n",
        "\n",
        "from sklearn.model_selection import train_test_split, cross_validate, GridSearchCV, TunedThresholdClassifierCV\n",
        "from sklearn.preprocessing import StandardScaler, OneHotEncoder\n",
        "from sklearn.impute import SimpleImputer\n",
        "from sklearn.compose import ColumnTransformer, make_column_selector, make_column_transformer\n",
        "from sklearn.pipeline import Pipeline\n",
        "from sklearn.linear_model import LogisticRegression, LogisticRegressionCV, RidgeClassifier, RidgeClassifierCV\n",
        "from sklearn.neighbors import KNeighborsClassifier\n",
        "from sklearn.metrics import roc_auc_score, make_scorer, RocCurveDisplay, PrecisionRecallDisplay\n",
        "from sklearn.tree import DecisionTreeClassifier\n",
        "from sklearn.svm import LinearSVC, SVC\n",
        "from sklearn.ensemble import RandomForestClassifier, HistGradientBoostingClassifier, StackingClassifier, AdaBoostClassifier\n",
        "from sklearn.naive_bayes import GaussianNB, BernoulliNB\n",
        "from sklearn.calibration import CalibratedClassifierCV\n",
        "from sklearn.frozen import FrozenEstimator\n",
        "\n",
        "from sklearn import set_config\n",
        "set_config(transform_output=\"pandas\")\n",
        "\n",
        "from xgboost import XGBClassifier, XGBRFClassifier\n",
        "\n",
        "from lightgbm import LGBMClassifier\n",
        "\n",
        "from category_encoders import HashingEncoder\n",
        "\n",
        "import joblib\n",
        "saved = joblib.load(lib_path + \"data_processing.joblib\")\n",
        "preprocessor = saved[\"preprocessor\"]\n",
        "non_co_cols = saved[\"non_co_cols\"]\n",
        "merged_application_test = saved[\"merged_application_train\"]\n",
        "\n",
        "import sys\n",
        "sys.path.insert(0, src_path)\n",
        "from eval_classification import eval_classification\n",
        "del sys.path[0]"
      ]
    },
    {
      "cell_type": "code",
      "execution_count": 83,
      "metadata": {
        "id": "6dSP9mqFhefH"
      },
      "outputs": [],
      "source": [
        "# separate data\n",
        "X = merged_application_test.drop(columns=[\"TARGET\", \"SK_ID_CURR\"])\n",
        "y = merged_application_test[\"TARGET\"].copy()"
      ]
    },
    {
      "cell_type": "code",
      "execution_count": 84,
      "metadata": {
        "id": "Q0Ke0pufhefI"
      },
      "outputs": [],
      "source": [
        "# split data 80/20 for training and testing\n",
        "X_train, X_test, y_train, y_test = train_test_split(X, y, train_size=0.8, test_size=0.2, random_state=42)"
      ]
    },
    {
      "cell_type": "code",
      "execution_count": 85,
      "metadata": {
        "id": "9Rqa7kP1hefI"
      },
      "outputs": [],
      "source": [
        "# fit data on preprocessor\n",
        "preprocessor.fit(X_train, y_train)\n",
        "\n",
        "# transform data\n",
        "X_train = preprocessor.transform(X_train)\n",
        "X_test = preprocessor.transform(X_test)"
      ]
    },
    {
      "cell_type": "code",
      "execution_count": 86,
      "metadata": {},
      "outputs": [],
      "source": [
        "# drop columns with collinear relationships (Pearson's correlation coefficients > 0.8)\n",
        "X_train.drop(columns=non_co_cols, inplace=True)\n",
        "X_test.drop(columns=non_co_cols, inplace=True)"
      ]
    },
    {
      "cell_type": "markdown",
      "metadata": {
        "id": "cck_179ehefI"
      },
      "source": [
        "# Model Testing"
      ]
    },
    {
      "cell_type": "markdown",
      "metadata": {
        "id": "axrY81pOhefI"
      },
      "source": [
        "## Logistic Regression"
      ]
    },
    {
      "cell_type": "code",
      "execution_count": 87,
      "metadata": {
        "colab": {
          "base_uri": "https://localhost:8080/",
          "height": 551
        },
        "id": "AohnySevhefI",
        "outputId": "649c88e5-f473-4f2a-fd8a-fc9085daabe1"
      },
      "outputs": [
        {
          "name": "stdout",
          "output_type": "stream",
          "text": [
            "                    Train Evaluation                                       Test Evaluation                   \n",
            "              precision    recall  f1-score   support                precision    recall  f1-score   support \n",
            "                                                                                                             \n",
            "           0       0.96      0.69      0.80    226132             0       0.96      0.69      0.80     56554 \n",
            "           1       0.16      0.68      0.26     19876             1       0.16      0.67      0.26      4949 \n",
            "                                                                                                             \n",
            "    accuracy                           0.69    246008      accuracy                           0.69     61503 \n",
            "   macro avg       0.56      0.68      0.53    246008     macro avg       0.56      0.68      0.53     61503 \n",
            "weighted avg       0.90      0.69      0.76    246008  weighted avg       0.90      0.69      0.76     61503 \n"
          ]
        },
        {
          "data": {
            "image/png": "[encoded data removed]",
            "text/plain": [
              "<Figure size 800x400 with 4 Axes>"
            ]
          },
          "metadata": {},
          "output_type": "display_data"
        }
      ],
      "source": [
        "logreg = LogisticRegression(max_iter=1000, class_weight=\"balanced\", random_state=42).fit(X_train, y_train)\n",
        "\n",
        "logreg_results = eval_classification(logreg, X_train, y_train, X_test, y_test,\n",
        "                              model_name=\"Logistic Regression\")"
      ]
    },
    {
      "cell_type": "code",
      "execution_count": 88,
      "metadata": {
        "colab": {
          "base_uri": "https://localhost:8080/",
          "height": 551
        },
        "id": "DDW95loahefI",
        "outputId": "588e23a1-60bc-4f02-9852-9f6dc6e5d082"
      },
      "outputs": [
        {
          "name": "stdout",
          "output_type": "stream",
          "text": [
            "                    Train Evaluation                                       Test Evaluation                   \n",
            "              precision    recall  f1-score   support                precision    recall  f1-score   support \n",
            "                                                                                                             \n",
            "           0       0.96      0.69      0.80    226132             0       0.96      0.69      0.80     56554 \n",
            "           1       0.16      0.67      0.26     19876             1       0.16      0.67      0.26      4949 \n",
            "                                                                                                             \n",
            "    accuracy                           0.69    246008      accuracy                           0.69     61503 \n",
            "   macro avg       0.56      0.68      0.53    246008     macro avg       0.56      0.68      0.53     61503 \n",
            "weighted avg       0.90      0.69      0.76    246008  weighted avg       0.90      0.69      0.76     61503 \n"
          ]
        },
        {
          "data": {
            "image/png": "[encoded data removed]",
            "text/plain": [
              "<Figure size 800x400 with 4 Axes>"
            ]
          },
          "metadata": {},
          "output_type": "display_data"
        }
      ],
      "source": [
        "logreg_cv = LogisticRegressionCV(max_iter=1000, class_weight=\"balanced\", scoring=\"roc_auc\", n_jobs=-1, random_state=42).fit(X_train, y_train)\n",
        "\n",
        "logreg_cv_results = eval_classification(logreg_cv, X_train, y_train, X_test, y_test,\n",
        "                              model_name=\"Logistic Regression CV\", results_frame=logreg_results)"
      ]
    },
    {
      "cell_type": "code",
      "execution_count": 89,
      "metadata": {},
      "outputs": [
        {
          "data": {
            "text/html": [
              "<div>\n",
              "<style scoped>\n",
              "    .dataframe tbody tr th:only-of-type {\n",
              "        vertical-align: middle;\n",
              "    }\n",
              "\n",
              "    .dataframe tbody tr th {\n",
              "        vertical-align: top;\n",
              "    }\n",
              "\n",
              "    .dataframe thead th {\n",
              "        text-align: right;\n",
              "    }\n",
              "</style>\n",
              "<table border=\"1\" class=\"dataframe\">\n",
              "  <thead>\n",
              "    <tr style=\"text-align: right;\">\n",
              "      <th></th>\n",
              "      <th>train_acc</th>\n",
              "      <th>test_acc</th>\n",
              "      <th>train_prec</th>\n",
              "      <th>test_prec</th>\n",
              "      <th>train_recall</th>\n",
              "      <th>test_recall</th>\n",
              "      <th>train_f1</th>\n",
              "      <th>test_f1</th>\n",
              "      <th>train_auc</th>\n",
              "      <th>test_auc</th>\n",
              "    </tr>\n",
              "  </thead>\n",
              "  <tbody>\n",
              "    <tr>\n",
              "      <th>Logistic Regression</th>\n",
              "      <td>0.688201</td>\n",
              "      <td>0.685284</td>\n",
              "      <td>0.160394</td>\n",
              "      <td>0.157677</td>\n",
              "      <td>0.675186</td>\n",
              "      <td>0.670438</td>\n",
              "      <td>0.259211</td>\n",
              "      <td>0.255309</td>\n",
              "      <td>0.745930</td>\n",
              "      <td>0.743762</td>\n",
              "    </tr>\n",
              "    <tr>\n",
              "      <th>Logistic Regression CV</th>\n",
              "      <td>0.688100</td>\n",
              "      <td>0.685316</td>\n",
              "      <td>0.160257</td>\n",
              "      <td>0.157692</td>\n",
              "      <td>0.674633</td>\n",
              "      <td>0.670438</td>\n",
              "      <td>0.258991</td>\n",
              "      <td>0.255329</td>\n",
              "      <td>0.745894</td>\n",
              "      <td>0.743784</td>\n",
              "    </tr>\n",
              "  </tbody>\n",
              "</table>\n",
              "</div>"
            ],
            "text/plain": [
              "                        train_acc  test_acc  train_prec  test_prec  \\\n",
              "Logistic Regression      0.688201  0.685284    0.160394   0.157677   \n",
              "Logistic Regression CV   0.688100  0.685316    0.160257   0.157692   \n",
              "\n",
              "                        train_recall  test_recall  train_f1   test_f1  \\\n",
              "Logistic Regression         0.675186     0.670438  0.259211  0.255309   \n",
              "Logistic Regression CV      0.674633     0.670438  0.258991  0.255329   \n",
              "\n",
              "                        train_auc  test_auc  \n",
              "Logistic Regression      0.745930  0.743762  \n",
              "Logistic Regression CV   0.745894  0.743784  "
            ]
          },
          "execution_count": 89,
          "metadata": {},
          "output_type": "execute_result"
        }
      ],
      "source": [
        "logreg_cv_results"
      ]
    },
    {
      "cell_type": "code",
      "execution_count": 90,
      "metadata": {},
      "outputs": [
        {
          "data": {
            "text/plain": [
              "{'Cs': 10,\n",
              " 'class_weight': 'balanced',\n",
              " 'cv': None,\n",
              " 'dual': False,\n",
              " 'fit_intercept': True,\n",
              " 'intercept_scaling': 1.0,\n",
              " 'l1_ratios': None,\n",
              " 'max_iter': 1000,\n",
              " 'multi_class': 'deprecated',\n",
              " 'n_jobs': -1,\n",
              " 'penalty': 'l2',\n",
              " 'random_state': 42,\n",
              " 'refit': True,\n",
              " 'scoring': 'roc_auc',\n",
              " 'solver': 'lbfgs',\n",
              " 'tol': 0.0001,\n",
              " 'verbose': 0}"
            ]
          },
          "execution_count": 90,
          "metadata": {},
          "output_type": "execute_result"
        }
      ],
      "source": [
        "logreg_cv.get_params()"
      ]
    },
    {
      "cell_type": "markdown",
      "metadata": {
        "id": "1Kh2Gj_EhefJ"
      },
      "source": [
        "## Decision Trees"
      ]
    },
    {
      "cell_type": "code",
      "execution_count": 91,
      "metadata": {
        "colab": {
          "base_uri": "https://localhost:8080/",
          "height": 555
        },
        "id": "6ztaskLdhefJ",
        "outputId": "6a73a290-8983-4822-ed92-4bf120942ecf"
      },
      "outputs": [
        {
          "name": "stdout",
          "output_type": "stream",
          "text": [
            "                    Train Evaluation                                       Test Evaluation                   \n",
            "              precision    recall  f1-score   support                precision    recall  f1-score   support \n",
            "                                                                                                             \n",
            "           0       1.00      1.00      1.00    226132             0       0.93      0.92      0.92     56554 \n",
            "           1       1.00      1.00      1.00     19876             1       0.16      0.17      0.16      4949 \n",
            "                                                                                                             \n",
            "    accuracy                           1.00    246008      accuracy                           0.86     61503 \n",
            "   macro avg       1.00      1.00      1.00    246008     macro avg       0.54      0.54      0.54     61503 \n",
            "weighted avg       1.00      1.00      1.00    246008  weighted avg       0.86      0.86      0.86     61503 \n"
          ]
        },
        {
          "data": {
            "image/png": "[encoded data removed]",
            "text/plain": [
              "<Figure size 800x400 with 4 Axes>"
            ]
          },
          "metadata": {},
          "output_type": "display_data"
        }
      ],
      "source": [
        "dt = DecisionTreeClassifier(random_state=42, class_weight=\"balanced\").fit(X_train, y_train)\n",
        "\n",
        "dt_results = eval_classification(dt, X_train, y_train, X_test, y_test,\n",
        "                                  model_name=\"Decision Tree\", results_frame=logreg_cv_results)"
      ]
    },
    {
      "cell_type": "code",
      "execution_count": 92,
      "metadata": {
        "colab": {
          "base_uri": "https://localhost:8080/"
        },
        "id": "gGXXilYqq-lX",
        "outputId": "1a64287d-3db4-4e84-83b7-5f8d1cb4298b"
      },
      "outputs": [
        {
          "data": {
            "text/plain": [
              "80"
            ]
          },
          "execution_count": 92,
          "metadata": {},
          "output_type": "execute_result"
        }
      ],
      "source": [
        "dt.get_depth()"
      ]
    },
    {
      "cell_type": "code",
      "execution_count": 93,
      "metadata": {},
      "outputs": [
        {
          "data": {
            "text/plain": [
              "{'ccp_alpha': 0.0,\n",
              " 'class_weight': 'balanced',\n",
              " 'criterion': 'gini',\n",
              " 'max_depth': None,\n",
              " 'max_features': None,\n",
              " 'max_leaf_nodes': None,\n",
              " 'min_impurity_decrease': 0.0,\n",
              " 'min_samples_leaf': 1,\n",
              " 'min_samples_split': 2,\n",
              " 'min_weight_fraction_leaf': 0.0,\n",
              " 'monotonic_cst': None,\n",
              " 'random_state': 42,\n",
              " 'splitter': 'best'}"
            ]
          },
          "execution_count": 93,
          "metadata": {},
          "output_type": "execute_result"
        }
      ],
      "source": [
        "dt.get_params()"
      ]
    },
    {
      "cell_type": "code",
      "execution_count": 94,
      "metadata": {
        "colab": {
          "base_uri": "https://localhost:8080/",
          "height": 551
        },
        "id": "v9c1wyQ8hefJ",
        "outputId": "f97c64b9-c300-4209-c743-d6bd8a9fce25"
      },
      "outputs": [
        {
          "name": "stderr",
          "output_type": "stream",
          "text": [
            "/opt/anaconda3/envs/datascience/lib/python3.12/site-packages/joblib/externals/loky/process_executor.py:752: UserWarning: A worker stopped while some jobs were given to the executor. This can be caused by a too short worker timeout or by a memory leak.\n",
            "  warnings.warn(\n"
          ]
        },
        {
          "name": "stdout",
          "output_type": "stream",
          "text": [
            "                    Train Evaluation                                       Test Evaluation                   \n",
            "              precision    recall  f1-score   support                precision    recall  f1-score   support \n",
            "                                                                                                             \n",
            "           0       0.96      0.69      0.80    226132             0       0.96      0.68      0.80     56554 \n",
            "           1       0.16      0.67      0.26     19876             1       0.15      0.64      0.24      4949 \n",
            "                                                                                                             \n",
            "    accuracy                           0.69    246008      accuracy                           0.68     61503 \n",
            "   macro avg       0.56      0.68      0.53    246008     macro avg       0.55      0.66      0.52     61503 \n",
            "weighted avg       0.90      0.69      0.76    246008  weighted avg       0.89      0.68      0.75     61503 \n"
          ]
        },
        {
          "data": {
            "image/png": "[encoded data removed]",
            "text/plain": [
              "<Figure size 800x400 with 4 Axes>"
            ]
          },
          "metadata": {},
          "output_type": "display_data"
        }
      ],
      "source": [
        "dt_params = {'max_depth' : [2, 4, 5, 8, 10, 16, 20, 40, 80]}\n",
        "dt_gs = GridSearchCV(dt, dt_params, scoring=\"roc_auc\", n_jobs=-1)\n",
        "dt_gs.fit(X_train, y_train)\n",
        "dt_cv = dt_gs.best_estimator_.fit(X_train, y_train)\n",
        "\n",
        "dt_cv_results = eval_classification(dt_cv, X_train, y_train, X_test, y_test,\n",
        "                                  model_name=\"Decision Tree CV\", results_frame=dt_results)"
      ]
    },
    {
      "cell_type": "code",
      "execution_count": 95,
      "metadata": {},
      "outputs": [
        {
          "data": {
            "text/plain": [
              "{'ccp_alpha': 0.0,\n",
              " 'class_weight': 'balanced',\n",
              " 'criterion': 'gini',\n",
              " 'max_depth': 8,\n",
              " 'max_features': None,\n",
              " 'max_leaf_nodes': None,\n",
              " 'min_impurity_decrease': 0.0,\n",
              " 'min_samples_leaf': 1,\n",
              " 'min_samples_split': 2,\n",
              " 'min_weight_fraction_leaf': 0.0,\n",
              " 'monotonic_cst': None,\n",
              " 'random_state': 42,\n",
              " 'splitter': 'best'}"
            ]
          },
          "execution_count": 95,
          "metadata": {},
          "output_type": "execute_result"
        }
      ],
      "source": [
        "dt_cv.get_params()"
      ]
    },
    {
      "cell_type": "code",
      "execution_count": 96,
      "metadata": {},
      "outputs": [
        {
          "data": {
            "text/html": [
              "<div>\n",
              "<style scoped>\n",
              "    .dataframe tbody tr th:only-of-type {\n",
              "        vertical-align: middle;\n",
              "    }\n",
              "\n",
              "    .dataframe tbody tr th {\n",
              "        vertical-align: top;\n",
              "    }\n",
              "\n",
              "    .dataframe thead th {\n",
              "        text-align: right;\n",
              "    }\n",
              "</style>\n",
              "<table border=\"1\" class=\"dataframe\">\n",
              "  <thead>\n",
              "    <tr style=\"text-align: right;\">\n",
              "      <th></th>\n",
              "      <th>train_acc</th>\n",
              "      <th>test_acc</th>\n",
              "      <th>train_prec</th>\n",
              "      <th>test_prec</th>\n",
              "      <th>train_recall</th>\n",
              "      <th>test_recall</th>\n",
              "      <th>train_f1</th>\n",
              "      <th>test_f1</th>\n",
              "      <th>train_auc</th>\n",
              "      <th>test_auc</th>\n",
              "    </tr>\n",
              "  </thead>\n",
              "  <tbody>\n",
              "    <tr>\n",
              "      <th>Logistic Regression</th>\n",
              "      <td>0.688201</td>\n",
              "      <td>0.685284</td>\n",
              "      <td>0.160394</td>\n",
              "      <td>0.157677</td>\n",
              "      <td>0.675186</td>\n",
              "      <td>0.670438</td>\n",
              "      <td>0.259211</td>\n",
              "      <td>0.255309</td>\n",
              "      <td>0.745930</td>\n",
              "      <td>0.743762</td>\n",
              "    </tr>\n",
              "    <tr>\n",
              "      <th>Logistic Regression CV</th>\n",
              "      <td>0.688100</td>\n",
              "      <td>0.685316</td>\n",
              "      <td>0.160257</td>\n",
              "      <td>0.157692</td>\n",
              "      <td>0.674633</td>\n",
              "      <td>0.670438</td>\n",
              "      <td>0.258991</td>\n",
              "      <td>0.255329</td>\n",
              "      <td>0.745894</td>\n",
              "      <td>0.743784</td>\n",
              "    </tr>\n",
              "    <tr>\n",
              "      <th>Decision Tree</th>\n",
              "      <td>1.000000</td>\n",
              "      <td>0.859487</td>\n",
              "      <td>1.000000</td>\n",
              "      <td>0.156465</td>\n",
              "      <td>1.000000</td>\n",
              "      <td>0.169933</td>\n",
              "      <td>1.000000</td>\n",
              "      <td>0.162921</td>\n",
              "      <td>1.000000</td>\n",
              "      <td>0.544881</td>\n",
              "    </tr>\n",
              "    <tr>\n",
              "      <th>Decision Tree CV</th>\n",
              "      <td>0.688075</td>\n",
              "      <td>0.680910</td>\n",
              "      <td>0.159953</td>\n",
              "      <td>0.150405</td>\n",
              "      <td>0.672821</td>\n",
              "      <td>0.637907</td>\n",
              "      <td>0.258460</td>\n",
              "      <td>0.243417</td>\n",
              "      <td>0.744455</td>\n",
              "      <td>0.712928</td>\n",
              "    </tr>\n",
              "  </tbody>\n",
              "</table>\n",
              "</div>"
            ],
            "text/plain": [
              "                        train_acc  test_acc  train_prec  test_prec  \\\n",
              "Logistic Regression      0.688201  0.685284    0.160394   0.157677   \n",
              "Logistic Regression CV   0.688100  0.685316    0.160257   0.157692   \n",
              "Decision Tree            1.000000  0.859487    1.000000   0.156465   \n",
              "Decision Tree CV         0.688075  0.680910    0.159953   0.150405   \n",
              "\n",
              "                        train_recall  test_recall  train_f1   test_f1  \\\n",
              "Logistic Regression         0.675186     0.670438  0.259211  0.255309   \n",
              "Logistic Regression CV      0.674633     0.670438  0.258991  0.255329   \n",
              "Decision Tree               1.000000     0.169933  1.000000  0.162921   \n",
              "Decision Tree CV            0.672821     0.637907  0.258460  0.243417   \n",
              "\n",
              "                        train_auc  test_auc  \n",
              "Logistic Regression      0.745930  0.743762  \n",
              "Logistic Regression CV   0.745894  0.743784  \n",
              "Decision Tree            1.000000  0.544881  \n",
              "Decision Tree CV         0.744455  0.712928  "
            ]
          },
          "execution_count": 96,
          "metadata": {},
          "output_type": "execute_result"
        }
      ],
      "source": [
        "dt_cv_results"
      ]
    },
    {
      "cell_type": "code",
      "execution_count": 97,
      "metadata": {},
      "outputs": [
        {
          "name": "stdout",
          "output_type": "stream",
          "text": [
            "                    Train Evaluation                                       Test Evaluation                   \n",
            "              precision    recall  f1-score   support                precision    recall  f1-score   support \n",
            "                                                                                                             \n",
            "           0       0.96      0.71      0.82    226132             0       0.96      0.71      0.81     56554 \n",
            "           1       0.17      0.68      0.28     19876             1       0.16      0.62      0.25      4949 \n",
            "                                                                                                             \n",
            "    accuracy                           0.71    246008      accuracy                           0.70     61503 \n",
            "   macro avg       0.57      0.70      0.55    246008     macro avg       0.56      0.67      0.53     61503 \n",
            "weighted avg       0.90      0.71      0.78    246008  weighted avg       0.89      0.70      0.77     61503 \n"
          ]
        },
        {
          "data": {
            "image/png": "[encoded data removed]",
            "text/plain": [
              "<Figure size 800x400 with 4 Axes>"
            ]
          },
          "metadata": {},
          "output_type": "display_data"
        }
      ],
      "source": [
        "bdt = AdaBoostClassifier(dt_cv, random_state=42).fit(X_train, y_train)\n",
        "\n",
        "bdt_results = eval_classification(bdt, X_train, y_train, X_test, y_test,\n",
        "                                  model_name=\"AdaBoosted Decision Tree\", results_frame=dt_cv_results)"
      ]
    },
    {
      "cell_type": "code",
      "execution_count": 98,
      "metadata": {},
      "outputs": [
        {
          "data": {
            "text/html": [
              "<div>\n",
              "<style scoped>\n",
              "    .dataframe tbody tr th:only-of-type {\n",
              "        vertical-align: middle;\n",
              "    }\n",
              "\n",
              "    .dataframe tbody tr th {\n",
              "        vertical-align: top;\n",
              "    }\n",
              "\n",
              "    .dataframe thead th {\n",
              "        text-align: right;\n",
              "    }\n",
              "</style>\n",
              "<table border=\"1\" class=\"dataframe\">\n",
              "  <thead>\n",
              "    <tr style=\"text-align: right;\">\n",
              "      <th></th>\n",
              "      <th>train_acc</th>\n",
              "      <th>test_acc</th>\n",
              "      <th>train_prec</th>\n",
              "      <th>test_prec</th>\n",
              "      <th>train_recall</th>\n",
              "      <th>test_recall</th>\n",
              "      <th>train_f1</th>\n",
              "      <th>test_f1</th>\n",
              "      <th>train_auc</th>\n",
              "      <th>test_auc</th>\n",
              "    </tr>\n",
              "  </thead>\n",
              "  <tbody>\n",
              "    <tr>\n",
              "      <th>Logistic Regression</th>\n",
              "      <td>0.688201</td>\n",
              "      <td>0.685284</td>\n",
              "      <td>0.160394</td>\n",
              "      <td>0.157677</td>\n",
              "      <td>0.675186</td>\n",
              "      <td>0.670438</td>\n",
              "      <td>0.259211</td>\n",
              "      <td>0.255309</td>\n",
              "      <td>0.745930</td>\n",
              "      <td>0.743762</td>\n",
              "    </tr>\n",
              "    <tr>\n",
              "      <th>Logistic Regression CV</th>\n",
              "      <td>0.688100</td>\n",
              "      <td>0.685316</td>\n",
              "      <td>0.160257</td>\n",
              "      <td>0.157692</td>\n",
              "      <td>0.674633</td>\n",
              "      <td>0.670438</td>\n",
              "      <td>0.258991</td>\n",
              "      <td>0.255329</td>\n",
              "      <td>0.745894</td>\n",
              "      <td>0.743784</td>\n",
              "    </tr>\n",
              "    <tr>\n",
              "      <th>Decision Tree</th>\n",
              "      <td>1.000000</td>\n",
              "      <td>0.859487</td>\n",
              "      <td>1.000000</td>\n",
              "      <td>0.156465</td>\n",
              "      <td>1.000000</td>\n",
              "      <td>0.169933</td>\n",
              "      <td>1.000000</td>\n",
              "      <td>0.162921</td>\n",
              "      <td>1.000000</td>\n",
              "      <td>0.544881</td>\n",
              "    </tr>\n",
              "    <tr>\n",
              "      <th>Decision Tree CV</th>\n",
              "      <td>0.688075</td>\n",
              "      <td>0.680910</td>\n",
              "      <td>0.159953</td>\n",
              "      <td>0.150405</td>\n",
              "      <td>0.672821</td>\n",
              "      <td>0.637907</td>\n",
              "      <td>0.258460</td>\n",
              "      <td>0.243417</td>\n",
              "      <td>0.744455</td>\n",
              "      <td>0.712928</td>\n",
              "    </tr>\n",
              "    <tr>\n",
              "      <th>AdaBoosted Decision Tree</th>\n",
              "      <td>0.711578</td>\n",
              "      <td>0.702307</td>\n",
              "      <td>0.172694</td>\n",
              "      <td>0.158032</td>\n",
              "      <td>0.677953</td>\n",
              "      <td>0.623762</td>\n",
              "      <td>0.275270</td>\n",
              "      <td>0.252175</td>\n",
              "      <td>0.758932</td>\n",
              "      <td>0.721342</td>\n",
              "    </tr>\n",
              "  </tbody>\n",
              "</table>\n",
              "</div>"
            ],
            "text/plain": [
              "                          train_acc  test_acc  train_prec  test_prec  \\\n",
              "Logistic Regression        0.688201  0.685284    0.160394   0.157677   \n",
              "Logistic Regression CV     0.688100  0.685316    0.160257   0.157692   \n",
              "Decision Tree              1.000000  0.859487    1.000000   0.156465   \n",
              "Decision Tree CV           0.688075  0.680910    0.159953   0.150405   \n",
              "AdaBoosted Decision Tree   0.711578  0.702307    0.172694   0.158032   \n",
              "\n",
              "                          train_recall  test_recall  train_f1   test_f1  \\\n",
              "Logistic Regression           0.675186     0.670438  0.259211  0.255309   \n",
              "Logistic Regression CV        0.674633     0.670438  0.258991  0.255329   \n",
              "Decision Tree                 1.000000     0.169933  1.000000  0.162921   \n",
              "Decision Tree CV              0.672821     0.637907  0.258460  0.243417   \n",
              "AdaBoosted Decision Tree      0.677953     0.623762  0.275270  0.252175   \n",
              "\n",
              "                          train_auc  test_auc  \n",
              "Logistic Regression        0.745930  0.743762  \n",
              "Logistic Regression CV     0.745894  0.743784  \n",
              "Decision Tree              1.000000  0.544881  \n",
              "Decision Tree CV           0.744455  0.712928  \n",
              "AdaBoosted Decision Tree   0.758932  0.721342  "
            ]
          },
          "execution_count": 98,
          "metadata": {},
          "output_type": "execute_result"
        }
      ],
      "source": [
        "bdt_results"
      ]
    },
    {
      "cell_type": "markdown",
      "metadata": {
        "id": "qEbrXSQghefK"
      },
      "source": [
        "## Random Forests"
      ]
    },
    {
      "cell_type": "code",
      "execution_count": 99,
      "metadata": {
        "colab": {
          "base_uri": "https://localhost:8080/",
          "height": 555
        },
        "id": "nH9a76KzhefK",
        "outputId": "9b309843-cb64-4ea0-eb6d-a35b4eb732a9"
      },
      "outputs": [
        {
          "name": "stdout",
          "output_type": "stream",
          "text": [
            "                    Train Evaluation                                       Test Evaluation                   \n",
            "              precision    recall  f1-score   support                precision    recall  f1-score   support \n",
            "                                                                                                             \n",
            "           0       1.00      1.00      1.00    226132             0       0.92      1.00      0.96     56554 \n",
            "           1       1.00      1.00      1.00     19876             1       0.50      0.00      0.00      4949 \n",
            "                                                                                                             \n",
            "    accuracy                           1.00    246008      accuracy                           0.92     61503 \n",
            "   macro avg       1.00      1.00      1.00    246008     macro avg       0.71      0.50      0.48     61503 \n",
            "weighted avg       1.00      1.00      1.00    246008  weighted avg       0.89      0.92      0.88     61503 \n"
          ]
        },
        {
          "data": {
            "image/png": "[encoded data removed]",
            "text/plain": [
              "<Figure size 800x400 with 4 Axes>"
            ]
          },
          "metadata": {},
          "output_type": "display_data"
        }
      ],
      "source": [
        "rf = RandomForestClassifier(random_state=42, n_jobs=-1, class_weight=\"balanced_subsample\").fit(X_train, y_train)\n",
        "\n",
        "rf_results = eval_classification(rf, X_train, y_train, X_test, y_test,\n",
        "                                  model_name=\"Random Forest\", results_frame=bdt_results)"
      ]
    },
    {
      "cell_type": "code",
      "execution_count": 100,
      "metadata": {},
      "outputs": [
        {
          "data": {
            "text/plain": [
              "83"
            ]
          },
          "execution_count": 100,
          "metadata": {},
          "output_type": "execute_result"
        }
      ],
      "source": [
        "estimators = rf.estimators_\n",
        "depths = [est.get_depth() for est in estimators]\n",
        "max(depths)"
      ]
    },
    {
      "cell_type": "code",
      "execution_count": 101,
      "metadata": {
        "colab": {
          "base_uri": "https://localhost:8080/",
          "height": 341
        },
        "id": "5G92gvOshefK",
        "outputId": "8cd8e86c-4965-498d-f9ec-75a46a4901fc"
      },
      "outputs": [
        {
          "name": "stderr",
          "output_type": "stream",
          "text": [
            "/opt/anaconda3/envs/datascience/lib/python3.12/site-packages/joblib/externals/loky/process_executor.py:752: UserWarning: A worker stopped while some jobs were given to the executor. This can be caused by a too short worker timeout or by a memory leak.\n",
            "  warnings.warn(\n"
          ]
        },
        {
          "name": "stdout",
          "output_type": "stream",
          "text": [
            "                    Train Evaluation                                       Test Evaluation                   \n",
            "              precision    recall  f1-score   support                precision    recall  f1-score   support \n",
            "                                                                                                             \n",
            "           0       0.96      0.72      0.83    226132             0       0.96      0.72      0.82     56554 \n",
            "           1       0.18      0.68      0.28     19876             1       0.17      0.64      0.26      4949 \n",
            "                                                                                                             \n",
            "    accuracy                           0.72    246008      accuracy                           0.71     61503 \n",
            "   macro avg       0.57      0.70      0.55    246008     macro avg       0.56      0.68      0.54     61503 \n",
            "weighted avg       0.90      0.72      0.78    246008  weighted avg       0.89      0.71      0.78     61503 \n"
          ]
        },
        {
          "data": {
            "image/png": "[encoded data removed]",
            "text/plain": [
              "<Figure size 800x400 with 4 Axes>"
            ]
          },
          "metadata": {},
          "output_type": "display_data"
        }
      ],
      "source": [
        "rf_params = {\"n_estimators\" : [20, 40, 60, 80],\n",
        "             \"max_depth\" : [3, 8, 83]}\n",
        "rf_gs = GridSearchCV(rf, rf_params, scoring=\"roc_auc\", n_jobs=-1)\n",
        "rf_gs.fit(X_train, y_train)\n",
        "rf_cv = rf_gs.best_estimator_.fit(X_train, y_train)\n",
        "\n",
        "rf_cv_results = eval_classification(rf_cv, X_train, y_train, X_test, y_test,\n",
        "                                  model_name=\"Random Forest CV\", results_frame=rf_results)"
      ]
    },
    {
      "cell_type": "code",
      "execution_count": 102,
      "metadata": {},
      "outputs": [
        {
          "data": {
            "text/plain": [
              "{'bootstrap': True,\n",
              " 'ccp_alpha': 0.0,\n",
              " 'class_weight': 'balanced_subsample',\n",
              " 'criterion': 'gini',\n",
              " 'max_depth': 8,\n",
              " 'max_features': 'sqrt',\n",
              " 'max_leaf_nodes': None,\n",
              " 'max_samples': None,\n",
              " 'min_impurity_decrease': 0.0,\n",
              " 'min_samples_leaf': 1,\n",
              " 'min_samples_split': 2,\n",
              " 'min_weight_fraction_leaf': 0.0,\n",
              " 'monotonic_cst': None,\n",
              " 'n_estimators': 80,\n",
              " 'n_jobs': -1,\n",
              " 'oob_score': False,\n",
              " 'random_state': 42,\n",
              " 'verbose': 0,\n",
              " 'warm_start': False}"
            ]
          },
          "execution_count": 102,
          "metadata": {},
          "output_type": "execute_result"
        }
      ],
      "source": [
        "rf_cv.get_params()"
      ]
    },
    {
      "cell_type": "markdown",
      "metadata": {
        "id": "DADNk09UhefL"
      },
      "source": [
        "## Gradient Boosting Models"
      ]
    },
    {
      "cell_type": "code",
      "execution_count": 103,
      "metadata": {
        "colab": {
          "base_uri": "https://localhost:8080/",
          "height": 551
        },
        "id": "mGSbWjtNhefL",
        "outputId": "ed03a192-bf30-46fb-f6c6-3505de43c040"
      },
      "outputs": [
        {
          "name": "stdout",
          "output_type": "stream",
          "text": [
            "                    Train Evaluation                                       Test Evaluation                   \n",
            "              precision    recall  f1-score   support                precision    recall  f1-score   support \n",
            "                                                                                                             \n",
            "           0       0.97      0.73      0.83    226132             0       0.96      0.72      0.82     56554 \n",
            "           1       0.19      0.74      0.31     19876             1       0.17      0.68      0.28      4949 \n",
            "                                                                                                             \n",
            "    accuracy                           0.73    246008      accuracy                           0.72     61503 \n",
            "   macro avg       0.58      0.73      0.57    246008     macro avg       0.57      0.70      0.55     61503 \n",
            "weighted avg       0.91      0.73      0.79    246008  weighted avg       0.90      0.72      0.78     61503 \n"
          ]
        },
        {
          "data": {
            "image/png": "[encoded data removed]",
            "text/plain": [
              "<Figure size 800x400 with 4 Axes>"
            ]
          },
          "metadata": {},
          "output_type": "display_data"
        }
      ],
      "source": [
        "hgb = HistGradientBoostingClassifier(scoring=\"roc_auc\", random_state=42, class_weight=\"balanced\", max_iter=1000).fit(X_train, y_train)\n",
        "\n",
        "hgb_results = eval_classification(hgb, X_train, y_train, X_test, y_test,\n",
        "                                  model_name=\"Histogram-based Gradient Boosting Tree\", results_frame=rf_cv_results)"
      ]
    },
    {
      "cell_type": "code",
      "execution_count": 104,
      "metadata": {
        "colab": {
          "base_uri": "https://localhost:8080/",
          "height": 551
        },
        "id": "x2h-Uo_1hefL",
        "outputId": "2e735c0e-cfc5-4e5f-cb67-0fffb96910dd"
      },
      "outputs": [
        {
          "name": "stdout",
          "output_type": "stream",
          "text": [
            "                    Train Evaluation                                       Test Evaluation                   \n",
            "              precision    recall  f1-score   support                precision    recall  f1-score   support \n",
            "                                                                                                             \n",
            "           0       0.93      1.00      0.96    226132             0       0.92      0.99      0.96     56554 \n",
            "           1       0.81      0.11      0.19     19876             1       0.45      0.05      0.09      4949 \n",
            "                                                                                                             \n",
            "    accuracy                           0.93    246008      accuracy                           0.92     61503 \n",
            "   macro avg       0.87      0.55      0.58    246008     macro avg       0.69      0.52      0.52     61503 \n",
            "weighted avg       0.92      0.93      0.90    246008  weighted avg       0.88      0.92      0.89     61503 \n"
          ]
        },
        {
          "data": {
            "image/png": "[encoded data removed]",
            "text/plain": [
              "<Figure size 800x400 with 4 Axes>"
            ]
          },
          "metadata": {},
          "output_type": "display_data"
        }
      ],
      "source": [
        "xgb = XGBClassifier(eval_metric=\"auc\", objective=\"binary:logistic\", random_state=42).fit(X_train, y_train)\n",
        "\n",
        "xgb_results = eval_classification(xgb, X_train, y_train, X_test, y_test,\n",
        "                                  model_name=\"XGBoost\", results_frame=hgb_results)"
      ]
    },
    {
      "cell_type": "code",
      "execution_count": 105,
      "metadata": {
        "colab": {
          "base_uri": "https://localhost:8080/",
          "height": 551
        },
        "id": "SrHfpBiBhefL",
        "outputId": "f7f2bcb3-baf3-4ea2-af6e-078cdf382182"
      },
      "outputs": [
        {
          "name": "stdout",
          "output_type": "stream",
          "text": [
            "                    Train Evaluation                                       Test Evaluation                   \n",
            "              precision    recall  f1-score   support                precision    recall  f1-score   support \n",
            "                                                                                                             \n",
            "           0       0.97      0.99      0.98    226132             0       0.93      0.97      0.95     56554 \n",
            "           1       0.87      0.66      0.75     19876             1       0.35      0.17      0.22      4949 \n",
            "                                                                                                             \n",
            "    accuracy                           0.96    246008      accuracy                           0.91     61503 \n",
            "   macro avg       0.92      0.83      0.87    246008     macro avg       0.64      0.57      0.59     61503 \n",
            "weighted avg       0.96      0.96      0.96    246008  weighted avg       0.88      0.91      0.89     61503 \n"
          ]
        },
        {
          "data": {
            "image/png": "[encoded data removed]",
            "text/plain": [
              "<Figure size 800x400 with 4 Axes>"
            ]
          },
          "metadata": {},
          "output_type": "display_data"
        }
      ],
      "source": [
        "xgbrf = XGBRFClassifier(eval_metric=\"auc\", objective=\"binary:logistic\", seed=42, n_estimators=200, max_depth=83).fit(X_train, y_train)\n",
        "\n",
        "xgbrf_results = eval_classification(xgbrf, X_train, y_train, X_test, y_test,\n",
        "                                  model_name=\"XGBoost Random Forest\", results_frame=xgb_results)"
      ]
    },
    {
      "cell_type": "markdown",
      "metadata": {
        "id": "sJ9Q-cf6hefL"
      },
      "source": [
        "## Naive Bayes algorithms"
      ]
    },
    {
      "cell_type": "code",
      "execution_count": 106,
      "metadata": {
        "colab": {
          "base_uri": "https://localhost:8080/",
          "height": 551
        },
        "id": "HDPHRX2xhefL",
        "outputId": "7c97cfbf-b818-4388-83d4-c86ec485fda1"
      },
      "outputs": [
        {
          "name": "stdout",
          "output_type": "stream",
          "text": [
            "                    Train Evaluation                                       Test Evaluation                   \n",
            "              precision    recall  f1-score   support                precision    recall  f1-score   support \n",
            "                                                                                                             \n",
            "           0       0.96      0.03      0.06    226132             0       0.96      0.03      0.06     56554 \n",
            "           1       0.08      0.98      0.15     19876             1       0.08      0.98      0.15      4949 \n",
            "                                                                                                             \n",
            "    accuracy                           0.11    246008      accuracy                           0.11     61503 \n",
            "   macro avg       0.52      0.51      0.11    246008     macro avg       0.52      0.51      0.11     61503 \n",
            "weighted avg       0.89      0.11      0.07    246008  weighted avg       0.89      0.11      0.07     61503 \n"
          ]
        },
        {
          "data": {
            "image/png": "[encoded data removed]",
            "text/plain": [
              "<Figure size 800x400 with 4 Axes>"
            ]
          },
          "metadata": {},
          "output_type": "display_data"
        }
      ],
      "source": [
        "gnb = GaussianNB().fit(X_train, y_train)\n",
        "\n",
        "gnb_results = eval_classification(gnb, X_train, y_train, X_test, y_test,\n",
        "                                  model_name=\"Gaussian\", results_frame=xgbrf_results)"
      ]
    },
    {
      "cell_type": "code",
      "execution_count": 107,
      "metadata": {
        "colab": {
          "base_uri": "https://localhost:8080/",
          "height": 551
        },
        "id": "AVAshygphefL",
        "outputId": "78bc0fc7-e910-4366-8915-0a5435bc68b2"
      },
      "outputs": [
        {
          "name": "stdout",
          "output_type": "stream",
          "text": [
            "                    Train Evaluation                                       Test Evaluation                   \n",
            "              precision    recall  f1-score   support                precision    recall  f1-score   support \n",
            "                                                                                                             \n",
            "           0       0.93      0.92      0.93    226132             0       0.93      0.92      0.93     56554 \n",
            "           1       0.19      0.21      0.20     19876             1       0.19      0.21      0.20      4949 \n",
            "                                                                                                             \n",
            "    accuracy                           0.87    246008      accuracy                           0.87     61503 \n",
            "   macro avg       0.56      0.57      0.56    246008     macro avg       0.56      0.57      0.56     61503 \n",
            "weighted avg       0.87      0.87      0.87    246008  weighted avg       0.87      0.87      0.87     61503 \n"
          ]
        },
        {
          "data": {
            "image/png": "[encoded data removed]",
            "text/plain": [
              "<Figure size 800x400 with 4 Axes>"
            ]
          },
          "metadata": {},
          "output_type": "display_data"
        }
      ],
      "source": [
        "bnb = BernoulliNB().fit(X_train, y_train)\n",
        "\n",
        "bnb_results = eval_classification(bnb, X_train, y_train, X_test, y_test,\n",
        "                                  model_name=\"Bernoulli\", results_frame=gnb_results)"
      ]
    },
    {
      "cell_type": "markdown",
      "metadata": {
        "id": "wZP1b_0bhefM"
      },
      "source": [
        "# Stacking Classifier"
      ]
    },
    {
      "cell_type": "markdown",
      "metadata": {
        "id": "hjvO1LxkhefM"
      },
      "source": [
        "## First we need to pick which models to stack"
      ]
    },
    {
      "cell_type": "code",
      "execution_count": 108,
      "metadata": {
        "colab": {
          "base_uri": "https://localhost:8080/",
          "height": 352
        },
        "id": "r2S5BnUihefM",
        "outputId": "21223d76-7dc6-4d88-9d56-9c51117a7915"
      },
      "outputs": [
        {
          "data": {
            "text/html": [
              "<style type=\"text/css\">\n",
              "#T_4ac59_row0_col0, #T_4ac59_row1_col0, #T_4ac59_row3_col0 {\n",
              "  background-color: #1c7fb8;\n",
              "  color: #f1f1f1;\n",
              "}\n",
              "#T_4ac59_row0_col1, #T_4ac59_row1_col1 {\n",
              "  background-color: #1e80b8;\n",
              "  color: #f1f1f1;\n",
              "}\n",
              "#T_4ac59_row0_col2, #T_4ac59_row1_col2, #T_4ac59_row2_col7 {\n",
              "  background-color: #e4e1ef;\n",
              "  color: #000000;\n",
              "}\n",
              "#T_4ac59_row0_col3, #T_4ac59_row1_col3, #T_4ac59_row2_col3, #T_4ac59_row3_col2, #T_4ac59_row4_col3 {\n",
              "  background-color: #e5e1ef;\n",
              "  color: #000000;\n",
              "}\n",
              "#T_4ac59_row0_col4, #T_4ac59_row1_col4, #T_4ac59_row3_col4 {\n",
              "  background-color: #2383ba;\n",
              "  color: #f1f1f1;\n",
              "}\n",
              "#T_4ac59_row0_col5, #T_4ac59_row1_col5 {\n",
              "  background-color: #2484ba;\n",
              "  color: #f1f1f1;\n",
              "}\n",
              "#T_4ac59_row0_col6, #T_4ac59_row1_col6, #T_4ac59_row3_col6 {\n",
              "  background-color: #cdd0e5;\n",
              "  color: #000000;\n",
              "}\n",
              "#T_4ac59_row0_col7, #T_4ac59_row1_col7 {\n",
              "  background-color: #ced0e6;\n",
              "  color: #000000;\n",
              "}\n",
              "#T_4ac59_row0_col8, #T_4ac59_row0_col9, #T_4ac59_row1_col8, #T_4ac59_row1_col9, #T_4ac59_row3_col8, #T_4ac59_row6_col9, #T_4ac59_row9_col9 {\n",
              "  background-color: #0771b1;\n",
              "  color: #f1f1f1;\n",
              "}\n",
              "#T_4ac59_row2_col0, #T_4ac59_row2_col2, #T_4ac59_row2_col4, #T_4ac59_row2_col6, #T_4ac59_row2_col8, #T_4ac59_row5_col0, #T_4ac59_row5_col2, #T_4ac59_row5_col4, #T_4ac59_row5_col6, #T_4ac59_row5_col8 {\n",
              "  background-color: #023858;\n",
              "  color: #f1f1f1;\n",
              "}\n",
              "#T_4ac59_row2_col1 {\n",
              "  background-color: #045c90;\n",
              "  color: #f1f1f1;\n",
              "}\n",
              "#T_4ac59_row2_col5 {\n",
              "  background-color: #e2dfee;\n",
              "  color: #000000;\n",
              "}\n",
              "#T_4ac59_row2_col9 {\n",
              "  background-color: #5ea0ca;\n",
              "  color: #f1f1f1;\n",
              "}\n",
              "#T_4ac59_row3_col1, #T_4ac59_row6_col4, #T_4ac59_row7_col5, #T_4ac59_row11_col8, #T_4ac59_row11_col9 {\n",
              "  background-color: #2081b9;\n",
              "  color: #f1f1f1;\n",
              "}\n",
              "#T_4ac59_row3_col3, #T_4ac59_row10_col6, #T_4ac59_row10_col7 {\n",
              "  background-color: #e7e3f0;\n",
              "  color: #000000;\n",
              "}\n",
              "#T_4ac59_row3_col5 {\n",
              "  background-color: #308cbe;\n",
              "  color: #f1f1f1;\n",
              "}\n",
              "#T_4ac59_row3_col7 {\n",
              "  background-color: #d2d2e7;\n",
              "  color: #000000;\n",
              "}\n",
              "#T_4ac59_row3_col9, #T_4ac59_row4_col0, #T_4ac59_row6_col1 {\n",
              "  background-color: #1379b5;\n",
              "  color: #f1f1f1;\n",
              "}\n",
              "#T_4ac59_row4_col1 {\n",
              "  background-color: #187cb6;\n",
              "  color: #f1f1f1;\n",
              "}\n",
              "#T_4ac59_row4_col2, #T_4ac59_row7_col3 {\n",
              "  background-color: #e1dfed;\n",
              "  color: #000000;\n",
              "}\n",
              "#T_4ac59_row4_col4 {\n",
              "  background-color: #2182b9;\n",
              "  color: #f1f1f1;\n",
              "}\n",
              "#T_4ac59_row4_col5 {\n",
              "  background-color: #3790c0;\n",
              "  color: #f1f1f1;\n",
              "}\n",
              "#T_4ac59_row4_col6 {\n",
              "  background-color: #c8cde4;\n",
              "  color: #000000;\n",
              "}\n",
              "#T_4ac59_row4_col7 {\n",
              "  background-color: #d0d1e6;\n",
              "  color: #000000;\n",
              "}\n",
              "#T_4ac59_row4_col8, #T_4ac59_row8_col9 {\n",
              "  background-color: #056ead;\n",
              "  color: #f1f1f1;\n",
              "}\n",
              "#T_4ac59_row4_col9, #T_4ac59_row6_col0 {\n",
              "  background-color: #1077b4;\n",
              "  color: #f1f1f1;\n",
              "}\n",
              "#T_4ac59_row5_col1, #T_4ac59_row8_col1 {\n",
              "  background-color: #034d79;\n",
              "  color: #f1f1f1;\n",
              "}\n",
              "#T_4ac59_row5_col3 {\n",
              "  background-color: #73a9cf;\n",
              "  color: #f1f1f1;\n",
              "}\n",
              "#T_4ac59_row5_col5, #T_4ac59_row5_col7 {\n",
              "  background-color: #fff7fb;\n",
              "  color: #000000;\n",
              "}\n",
              "#T_4ac59_row5_col9 {\n",
              "  background-color: #0a73b2;\n",
              "  color: #f1f1f1;\n",
              "}\n",
              "#T_4ac59_row6_col2 {\n",
              "  background-color: #e0deed;\n",
              "  color: #000000;\n",
              "}\n",
              "#T_4ac59_row6_col3, #T_4ac59_row9_col5 {\n",
              "  background-color: #e3e0ee;\n",
              "  color: #000000;\n",
              "}\n",
              "#T_4ac59_row6_col5 {\n",
              "  background-color: #2f8bbe;\n",
              "  color: #f1f1f1;\n",
              "}\n",
              "#T_4ac59_row6_col6 {\n",
              "  background-color: #c5cce3;\n",
              "  color: #000000;\n",
              "}\n",
              "#T_4ac59_row6_col7 {\n",
              "  background-color: #cccfe5;\n",
              "  color: #000000;\n",
              "}\n",
              "#T_4ac59_row6_col8, #T_4ac59_row7_col9 {\n",
              "  background-color: #056caa;\n",
              "  color: #f1f1f1;\n",
              "}\n",
              "#T_4ac59_row7_col0 {\n",
              "  background-color: #0d75b3;\n",
              "  color: #f1f1f1;\n",
              "}\n",
              "#T_4ac59_row7_col1 {\n",
              "  background-color: #1278b4;\n",
              "  color: #f1f1f1;\n",
              "}\n",
              "#T_4ac59_row7_col2, #T_4ac59_row8_col6, #T_4ac59_row11_col2, #T_4ac59_row11_col3 {\n",
              "  background-color: #dddbec;\n",
              "  color: #000000;\n",
              "}\n",
              "#T_4ac59_row7_col4 {\n",
              "  background-color: #0872b1;\n",
              "  color: #f1f1f1;\n",
              "}\n",
              "#T_4ac59_row7_col6 {\n",
              "  background-color: #bdc8e1;\n",
              "  color: #000000;\n",
              "}\n",
              "#T_4ac59_row7_col7 {\n",
              "  background-color: #c6cce3;\n",
              "  color: #000000;\n",
              "}\n",
              "#T_4ac59_row7_col8 {\n",
              "  background-color: #05659f;\n",
              "  color: #f1f1f1;\n",
              "}\n",
              "#T_4ac59_row8_col0 {\n",
              "  background-color: #034b76;\n",
              "  color: #f1f1f1;\n",
              "}\n",
              "#T_4ac59_row8_col2 {\n",
              "  background-color: #04649e;\n",
              "  color: #f1f1f1;\n",
              "}\n",
              "#T_4ac59_row8_col3 {\n",
              "  background-color: #88b1d4;\n",
              "  color: #000000;\n",
              "}\n",
              "#T_4ac59_row8_col4, #T_4ac59_row10_col0, #T_4ac59_row10_col1 {\n",
              "  background-color: #efe9f3;\n",
              "  color: #000000;\n",
              "}\n",
              "#T_4ac59_row8_col5 {\n",
              "  background-color: #f7f0f7;\n",
              "  color: #000000;\n",
              "}\n",
              "#T_4ac59_row8_col7 {\n",
              "  background-color: #f1ebf5;\n",
              "  color: #000000;\n",
              "}\n",
              "#T_4ac59_row8_col8, #T_4ac59_row11_col0, #T_4ac59_row11_col1 {\n",
              "  background-color: #045b8f;\n",
              "  color: #f1f1f1;\n",
              "}\n",
              "#T_4ac59_row9_col0 {\n",
              "  background-color: #034267;\n",
              "  color: #f1f1f1;\n",
              "}\n",
              "#T_4ac59_row9_col1 {\n",
              "  background-color: #03517e;\n",
              "  color: #f1f1f1;\n",
              "}\n",
              "#T_4ac59_row9_col2 {\n",
              "  background-color: #045a8d;\n",
              "  color: #f1f1f1;\n",
              "}\n",
              "#T_4ac59_row9_col3 {\n",
              "  background-color: #b0c2de;\n",
              "  color: #000000;\n",
              "}\n",
              "#T_4ac59_row9_col4 {\n",
              "  background-color: #2987bc;\n",
              "  color: #f1f1f1;\n",
              "}\n",
              "#T_4ac59_row9_col6 {\n",
              "  background-color: #056faf;\n",
              "  color: #f1f1f1;\n",
              "}\n",
              "#T_4ac59_row9_col7 {\n",
              "  background-color: #d6d6e9;\n",
              "  color: #000000;\n",
              "}\n",
              "#T_4ac59_row9_col8 {\n",
              "  background-color: #023a5b;\n",
              "  color: #f1f1f1;\n",
              "}\n",
              "#T_4ac59_row10_col2, #T_4ac59_row10_col3 {\n",
              "  background-color: #f3edf5;\n",
              "  color: #000000;\n",
              "}\n",
              "#T_4ac59_row10_col4, #T_4ac59_row10_col5 {\n",
              "  background-color: #023c5f;\n",
              "  color: #f1f1f1;\n",
              "}\n",
              "#T_4ac59_row10_col8, #T_4ac59_row10_col9 {\n",
              "  background-color: #6ba5cd;\n",
              "  color: #f1f1f1;\n",
              "}\n",
              "#T_4ac59_row11_col4, #T_4ac59_row11_col5 {\n",
              "  background-color: #d9d8ea;\n",
              "  color: #000000;\n",
              "}\n",
              "#T_4ac59_row11_col6, #T_4ac59_row11_col7 {\n",
              "  background-color: #dbdaeb;\n",
              "  color: #000000;\n",
              "}\n",
              "</style>\n",
              "<table id=\"T_4ac59\">\n",
              "  <thead>\n",
              "    <tr>\n",
              "      <th class=\"blank level0\" >&nbsp;</th>\n",
              "      <th id=\"T_4ac59_level0_col0\" class=\"col_heading level0 col0\" >train_acc</th>\n",
              "      <th id=\"T_4ac59_level0_col1\" class=\"col_heading level0 col1\" >test_acc</th>\n",
              "      <th id=\"T_4ac59_level0_col2\" class=\"col_heading level0 col2\" >train_prec</th>\n",
              "      <th id=\"T_4ac59_level0_col3\" class=\"col_heading level0 col3\" >test_prec</th>\n",
              "      <th id=\"T_4ac59_level0_col4\" class=\"col_heading level0 col4\" >train_recall</th>\n",
              "      <th id=\"T_4ac59_level0_col5\" class=\"col_heading level0 col5\" >test_recall</th>\n",
              "      <th id=\"T_4ac59_level0_col6\" class=\"col_heading level0 col6\" >train_f1</th>\n",
              "      <th id=\"T_4ac59_level0_col7\" class=\"col_heading level0 col7\" >test_f1</th>\n",
              "      <th id=\"T_4ac59_level0_col8\" class=\"col_heading level0 col8\" >train_auc</th>\n",
              "      <th id=\"T_4ac59_level0_col9\" class=\"col_heading level0 col9\" >test_auc</th>\n",
              "    </tr>\n",
              "  </thead>\n",
              "  <tbody>\n",
              "    <tr>\n",
              "      <th id=\"T_4ac59_level0_row0\" class=\"row_heading level0 row0\" >Logistic Regression</th>\n",
              "      <td id=\"T_4ac59_row0_col0\" class=\"data row0 col0\" >0.688201</td>\n",
              "      <td id=\"T_4ac59_row0_col1\" class=\"data row0 col1\" >0.685284</td>\n",
              "      <td id=\"T_4ac59_row0_col2\" class=\"data row0 col2\" >0.160394</td>\n",
              "      <td id=\"T_4ac59_row0_col3\" class=\"data row0 col3\" >0.157677</td>\n",
              "      <td id=\"T_4ac59_row0_col4\" class=\"data row0 col4\" >0.675186</td>\n",
              "      <td id=\"T_4ac59_row0_col5\" class=\"data row0 col5\" >0.670438</td>\n",
              "      <td id=\"T_4ac59_row0_col6\" class=\"data row0 col6\" >0.259211</td>\n",
              "      <td id=\"T_4ac59_row0_col7\" class=\"data row0 col7\" >0.255309</td>\n",
              "      <td id=\"T_4ac59_row0_col8\" class=\"data row0 col8\" >0.745930</td>\n",
              "      <td id=\"T_4ac59_row0_col9\" class=\"data row0 col9\" >0.743762</td>\n",
              "    </tr>\n",
              "    <tr>\n",
              "      <th id=\"T_4ac59_level0_row1\" class=\"row_heading level0 row1\" >Logistic Regression CV</th>\n",
              "      <td id=\"T_4ac59_row1_col0\" class=\"data row1 col0\" >0.688100</td>\n",
              "      <td id=\"T_4ac59_row1_col1\" class=\"data row1 col1\" >0.685316</td>\n",
              "      <td id=\"T_4ac59_row1_col2\" class=\"data row1 col2\" >0.160257</td>\n",
              "      <td id=\"T_4ac59_row1_col3\" class=\"data row1 col3\" >0.157692</td>\n",
              "      <td id=\"T_4ac59_row1_col4\" class=\"data row1 col4\" >0.674633</td>\n",
              "      <td id=\"T_4ac59_row1_col5\" class=\"data row1 col5\" >0.670438</td>\n",
              "      <td id=\"T_4ac59_row1_col6\" class=\"data row1 col6\" >0.258991</td>\n",
              "      <td id=\"T_4ac59_row1_col7\" class=\"data row1 col7\" >0.255329</td>\n",
              "      <td id=\"T_4ac59_row1_col8\" class=\"data row1 col8\" >0.745894</td>\n",
              "      <td id=\"T_4ac59_row1_col9\" class=\"data row1 col9\" >0.743784</td>\n",
              "    </tr>\n",
              "    <tr>\n",
              "      <th id=\"T_4ac59_level0_row2\" class=\"row_heading level0 row2\" >Decision Tree</th>\n",
              "      <td id=\"T_4ac59_row2_col0\" class=\"data row2 col0\" >1.000000</td>\n",
              "      <td id=\"T_4ac59_row2_col1\" class=\"data row2 col1\" >0.859487</td>\n",
              "      <td id=\"T_4ac59_row2_col2\" class=\"data row2 col2\" >1.000000</td>\n",
              "      <td id=\"T_4ac59_row2_col3\" class=\"data row2 col3\" >0.156465</td>\n",
              "      <td id=\"T_4ac59_row2_col4\" class=\"data row2 col4\" >1.000000</td>\n",
              "      <td id=\"T_4ac59_row2_col5\" class=\"data row2 col5\" >0.169933</td>\n",
              "      <td id=\"T_4ac59_row2_col6\" class=\"data row2 col6\" >1.000000</td>\n",
              "      <td id=\"T_4ac59_row2_col7\" class=\"data row2 col7\" >0.162921</td>\n",
              "      <td id=\"T_4ac59_row2_col8\" class=\"data row2 col8\" >1.000000</td>\n",
              "      <td id=\"T_4ac59_row2_col9\" class=\"data row2 col9\" >0.544881</td>\n",
              "    </tr>\n",
              "    <tr>\n",
              "      <th id=\"T_4ac59_level0_row3\" class=\"row_heading level0 row3\" >Decision Tree CV</th>\n",
              "      <td id=\"T_4ac59_row3_col0\" class=\"data row3 col0\" >0.688075</td>\n",
              "      <td id=\"T_4ac59_row3_col1\" class=\"data row3 col1\" >0.680910</td>\n",
              "      <td id=\"T_4ac59_row3_col2\" class=\"data row3 col2\" >0.159953</td>\n",
              "      <td id=\"T_4ac59_row3_col3\" class=\"data row3 col3\" >0.150405</td>\n",
              "      <td id=\"T_4ac59_row3_col4\" class=\"data row3 col4\" >0.672821</td>\n",
              "      <td id=\"T_4ac59_row3_col5\" class=\"data row3 col5\" >0.637907</td>\n",
              "      <td id=\"T_4ac59_row3_col6\" class=\"data row3 col6\" >0.258460</td>\n",
              "      <td id=\"T_4ac59_row3_col7\" class=\"data row3 col7\" >0.243417</td>\n",
              "      <td id=\"T_4ac59_row3_col8\" class=\"data row3 col8\" >0.744455</td>\n",
              "      <td id=\"T_4ac59_row3_col9\" class=\"data row3 col9\" >0.712928</td>\n",
              "    </tr>\n",
              "    <tr>\n",
              "      <th id=\"T_4ac59_level0_row4\" class=\"row_heading level0 row4\" >AdaBoosted Decision Tree</th>\n",
              "      <td id=\"T_4ac59_row4_col0\" class=\"data row4 col0\" >0.711578</td>\n",
              "      <td id=\"T_4ac59_row4_col1\" class=\"data row4 col1\" >0.702307</td>\n",
              "      <td id=\"T_4ac59_row4_col2\" class=\"data row4 col2\" >0.172694</td>\n",
              "      <td id=\"T_4ac59_row4_col3\" class=\"data row4 col3\" >0.158032</td>\n",
              "      <td id=\"T_4ac59_row4_col4\" class=\"data row4 col4\" >0.677953</td>\n",
              "      <td id=\"T_4ac59_row4_col5\" class=\"data row4 col5\" >0.623762</td>\n",
              "      <td id=\"T_4ac59_row4_col6\" class=\"data row4 col6\" >0.275270</td>\n",
              "      <td id=\"T_4ac59_row4_col7\" class=\"data row4 col7\" >0.252175</td>\n",
              "      <td id=\"T_4ac59_row4_col8\" class=\"data row4 col8\" >0.758932</td>\n",
              "      <td id=\"T_4ac59_row4_col9\" class=\"data row4 col9\" >0.721342</td>\n",
              "    </tr>\n",
              "    <tr>\n",
              "      <th id=\"T_4ac59_level0_row5\" class=\"row_heading level0 row5\" >Random Forest</th>\n",
              "      <td id=\"T_4ac59_row5_col0\" class=\"data row5 col0\" >0.999967</td>\n",
              "      <td id=\"T_4ac59_row5_col1\" class=\"data row5 col1\" >0.919532</td>\n",
              "      <td id=\"T_4ac59_row5_col2\" class=\"data row5 col2\" >1.000000</td>\n",
              "      <td id=\"T_4ac59_row5_col3\" class=\"data row5 col3\" >0.500000</td>\n",
              "      <td id=\"T_4ac59_row5_col4\" class=\"data row5 col4\" >0.999598</td>\n",
              "      <td id=\"T_4ac59_row5_col5\" class=\"data row5 col5\" >0.001819</td>\n",
              "      <td id=\"T_4ac59_row5_col6\" class=\"data row5 col6\" >0.999799</td>\n",
              "      <td id=\"T_4ac59_row5_col7\" class=\"data row5 col7\" >0.003624</td>\n",
              "      <td id=\"T_4ac59_row5_col8\" class=\"data row5 col8\" >1.000000</td>\n",
              "      <td id=\"T_4ac59_row5_col9\" class=\"data row5 col9\" >0.736460</td>\n",
              "    </tr>\n",
              "    <tr>\n",
              "      <th id=\"T_4ac59_level0_row6\" class=\"row_heading level0 row6\" >Random Forest CV</th>\n",
              "      <td id=\"T_4ac59_row6_col0\" class=\"data row6 col0\" >0.719192</td>\n",
              "      <td id=\"T_4ac59_row6_col1\" class=\"data row6 col1\" >0.711185</td>\n",
              "      <td id=\"T_4ac59_row6_col2\" class=\"data row6 col2\" >0.177501</td>\n",
              "      <td id=\"T_4ac59_row6_col3\" class=\"data row6 col3\" >0.166128</td>\n",
              "      <td id=\"T_4ac59_row6_col4\" class=\"data row6 col4\" >0.681274</td>\n",
              "      <td id=\"T_4ac59_row6_col5\" class=\"data row6 col5\" >0.644171</td>\n",
              "      <td id=\"T_4ac59_row6_col6\" class=\"data row6 col6\" >0.281626</td>\n",
              "      <td id=\"T_4ac59_row6_col7\" class=\"data row6 col7\" >0.264137</td>\n",
              "      <td id=\"T_4ac59_row6_col8\" class=\"data row6 col8\" >0.770360</td>\n",
              "      <td id=\"T_4ac59_row6_col9\" class=\"data row6 col9\" >0.743152</td>\n",
              "    </tr>\n",
              "    <tr>\n",
              "      <th id=\"T_4ac59_level0_row7\" class=\"row_heading level0 row7\" >Histogram-based Gradient Boosting Tree</th>\n",
              "      <td id=\"T_4ac59_row7_col0\" class=\"data row7 col0\" >0.728249</td>\n",
              "      <td id=\"T_4ac59_row7_col1\" class=\"data row7 col1\" >0.715380</td>\n",
              "      <td id=\"T_4ac59_row7_col2\" class=\"data row7 col2\" >0.192635</td>\n",
              "      <td id=\"T_4ac59_row7_col3\" class=\"data row7 col3\" >0.174917</td>\n",
              "      <td id=\"T_4ac59_row7_col4\" class=\"data row7 col4\" >0.740642</td>\n",
              "      <td id=\"T_4ac59_row7_col5\" class=\"data row7 col5\" >0.682562</td>\n",
              "      <td id=\"T_4ac59_row7_col6\" class=\"data row7 col6\" >0.305748</td>\n",
              "      <td id=\"T_4ac59_row7_col7\" class=\"data row7 col7\" >0.278472</td>\n",
              "      <td id=\"T_4ac59_row7_col8\" class=\"data row7 col8\" >0.812410</td>\n",
              "      <td id=\"T_4ac59_row7_col9\" class=\"data row7 col9\" >0.769900</td>\n",
              "    </tr>\n",
              "    <tr>\n",
              "      <th id=\"T_4ac59_level0_row8\" class=\"row_heading level0 row8\" >XGBoost</th>\n",
              "      <td id=\"T_4ac59_row8_col0\" class=\"data row8 col0\" >0.925974</td>\n",
              "      <td id=\"T_4ac59_row8_col1\" class=\"data row8 col1\" >0.918638</td>\n",
              "      <td id=\"T_4ac59_row8_col2\" class=\"data row8 col2\" >0.812617</td>\n",
              "      <td id=\"T_4ac59_row8_col3\" class=\"data row8 col3\" >0.450980</td>\n",
              "      <td id=\"T_4ac59_row8_col4\" class=\"data row8 col4\" >0.108875</td>\n",
              "      <td id=\"T_4ac59_row8_col5\" class=\"data row8 col5\" >0.051121</td>\n",
              "      <td id=\"T_4ac59_row8_col6\" class=\"data row8 col6\" >0.192023</td>\n",
              "      <td id=\"T_4ac59_row8_col7\" class=\"data row8 col7\" >0.091833</td>\n",
              "      <td id=\"T_4ac59_row8_col8\" class=\"data row8 col8\" >0.866603</td>\n",
              "      <td id=\"T_4ac59_row8_col9\" class=\"data row8 col9\" >0.760074</td>\n",
              "    </tr>\n",
              "    <tr>\n",
              "      <th id=\"T_4ac59_level0_row9\" class=\"row_heading level0 row9\" >XGBoost Random Forest</th>\n",
              "      <td id=\"T_4ac59_row9_col0\" class=\"data row9 col0\" >0.964757</td>\n",
              "      <td id=\"T_4ac59_row9_col1\" class=\"data row9 col1\" >0.907647</td>\n",
              "      <td id=\"T_4ac59_row9_col2\" class=\"data row9 col2\" >0.873086</td>\n",
              "      <td id=\"T_4ac59_row9_col3\" class=\"data row9 col3\" >0.345455</td>\n",
              "      <td id=\"T_4ac59_row9_col4\" class=\"data row9 col4\" >0.659690</td>\n",
              "      <td id=\"T_4ac59_row9_col5\" class=\"data row9 col5\" >0.165084</td>\n",
              "      <td id=\"T_4ac59_row9_col6\" class=\"data row9 col6\" >0.751533</td>\n",
              "      <td id=\"T_4ac59_row9_col7\" class=\"data row9 col7\" >0.223407</td>\n",
              "      <td id=\"T_4ac59_row9_col8\" class=\"data row9 col8\" >0.988605</td>\n",
              "      <td id=\"T_4ac59_row9_col9\" class=\"data row9 col9\" >0.745909</td>\n",
              "    </tr>\n",
              "    <tr>\n",
              "      <th id=\"T_4ac59_level0_row10\" class=\"row_heading level0 row10\" >Gaussian</th>\n",
              "      <td id=\"T_4ac59_row10_col0\" class=\"data row10 col0\" >0.108545</td>\n",
              "      <td id=\"T_4ac59_row10_col1\" class=\"data row10 col1\" >0.108856</td>\n",
              "      <td id=\"T_4ac59_row10_col2\" class=\"data row10 col2\" >0.081954</td>\n",
              "      <td id=\"T_4ac59_row10_col3\" class=\"data row10 col3\" >0.081713</td>\n",
              "      <td id=\"T_4ac59_row10_col4\" class=\"data row10 col4\" >0.983498</td>\n",
              "      <td id=\"T_4ac59_row10_col5\" class=\"data row10 col5\" >0.984037</td>\n",
              "      <td id=\"T_4ac59_row10_col6\" class=\"data row10 col6\" >0.151300</td>\n",
              "      <td id=\"T_4ac59_row10_col7\" class=\"data row10 col7\" >0.150895</td>\n",
              "      <td id=\"T_4ac59_row10_col8\" class=\"data row10 col8\" >0.517714</td>\n",
              "      <td id=\"T_4ac59_row10_col9\" class=\"data row10 col9\" >0.518487</td>\n",
              "    </tr>\n",
              "    <tr>\n",
              "      <th id=\"T_4ac59_level0_row11\" class=\"row_heading level0 row11\" >Bernoulli</th>\n",
              "      <td id=\"T_4ac59_row11_col0\" class=\"data row11 col0\" >0.866504</td>\n",
              "      <td id=\"T_4ac59_row11_col1\" class=\"data row11 col1\" >0.865763</td>\n",
              "      <td id=\"T_4ac59_row11_col2\" class=\"data row11 col2\" >0.194351</td>\n",
              "      <td id=\"T_4ac59_row11_col3\" class=\"data row11 col3\" >0.193057</td>\n",
              "      <td id=\"T_4ac59_row11_col4\" class=\"data row11 col4\" >0.207386</td>\n",
              "      <td id=\"T_4ac59_row11_col5\" class=\"data row11 col5\" >0.210143</td>\n",
              "      <td id=\"T_4ac59_row11_col6\" class=\"data row11 col6\" >0.200657</td>\n",
              "      <td id=\"T_4ac59_row11_col7\" class=\"data row11 col7\" >0.201238</td>\n",
              "      <td id=\"T_4ac59_row11_col8\" class=\"data row11 col8\" >0.680752</td>\n",
              "      <td id=\"T_4ac59_row11_col9\" class=\"data row11 col9\" >0.680338</td>\n",
              "    </tr>\n",
              "  </tbody>\n",
              "</table>\n"
            ],
            "text/plain": [
              "<pandas.io.formats.style.Styler at 0x157ee79e0>"
            ]
          },
          "execution_count": 108,
          "metadata": {},
          "output_type": "execute_result"
        }
      ],
      "source": [
        "bnb_results.style.background_gradient(vmin=0, vmax=1)"
      ]
    },
    {
      "cell_type": "code",
      "execution_count": 109,
      "metadata": {
        "colab": {
          "base_uri": "https://localhost:8080/",
          "height": 341
        },
        "id": "u5xs7rq6hefM",
        "outputId": "310998c4-1570-4176-a1be-7e9d8a37ca09"
      },
      "outputs": [
        {
          "name": "stderr",
          "output_type": "stream",
          "text": [
            "/opt/anaconda3/envs/datascience/lib/python3.12/site-packages/sklearn/utils/validation.py:2732: UserWarning: X has feature names, but LogisticRegression was fitted without feature names\n",
            "  warnings.warn(\n",
            "/opt/anaconda3/envs/datascience/lib/python3.12/site-packages/sklearn/utils/validation.py:2732: UserWarning: X has feature names, but LogisticRegression was fitted without feature names\n",
            "  warnings.warn(\n"
          ]
        },
        {
          "name": "stdout",
          "output_type": "stream",
          "text": [
            "                    Train Evaluation                                       Test Evaluation                   \n",
            "              precision    recall  f1-score   support                precision    recall  f1-score   support \n",
            "                                                                                                             \n",
            "           0       1.00      1.00      1.00    226132             0       0.92      1.00      0.96     56554 \n",
            "           1       1.00      1.00      1.00     19876             1       0.48      0.02      0.04      4949 \n",
            "                                                                                                             \n",
            "    accuracy                           1.00    246008      accuracy                           0.92     61503 \n",
            "   macro avg       1.00      1.00      1.00    246008     macro avg       0.70      0.51      0.50     61503 \n",
            "weighted avg       1.00      1.00      1.00    246008  weighted avg       0.89      0.92      0.88     61503 \n"
          ]
        },
        {
          "data": {
            "image/png": "[encoded data removed]",
            "text/plain": [
              "<Figure size 800x400 with 4 Axes>"
            ]
          },
          "metadata": {},
          "output_type": "display_data"
        },
        {
          "name": "stderr",
          "output_type": "stream",
          "text": [
            "/opt/anaconda3/envs/datascience/lib/python3.12/site-packages/sklearn/utils/validation.py:2732: UserWarning: X has feature names, but LogisticRegression was fitted without feature names\n",
            "  warnings.warn(\n",
            "/opt/anaconda3/envs/datascience/lib/python3.12/site-packages/sklearn/utils/validation.py:2732: UserWarning: X has feature names, but LogisticRegression was fitted without feature names\n",
            "  warnings.warn(\n"
          ]
        }
      ],
      "source": [
        "# utilizing test data results to pick classifiers, selecting by ROC AUC score, then recall, then f1 score\n",
        "\n",
        "estimators = [('hgb', hgb), # #1: ROC AUC, f1 #2: recall\n",
        "              ('xgb', xgb), # #2: ROC AUC('gnb', gnb), # #1: recall\n",
        "              ('rf_cv', rf), # #3: ROC AUC, #2 f1\n",
        "              ('gnb', gnb), # #1: recall\n",
        "              ('logreg_cv', logreg_cv), # #3: recall, #4: f1 (untuned was #3 but picking this instead)\n",
        "              ('svc', LinearSVC(random_state=42, class_weight=\"balanced\").fit(X_train, y_train))] # adding for variety\n",
        "\n",
        "stacked_clf = StackingClassifier(estimators=estimators, n_jobs=-1, cv=\"prefit\").fit(X_train, y_train)\n",
        "\n",
        "stacked_clf_results = eval_classification(stacked_clf, X_train, y_train, X_test, y_test, \n",
        "                                          model_name=\"Stacked Classifier\", results_frame=bnb_results)"
      ]
    },
    {
      "cell_type": "code",
      "execution_count": 110,
      "metadata": {
        "id": "y_2bb2bbhefM"
      },
      "outputs": [
        {
          "data": {
            "text/html": [
              "<style type=\"text/css\">\n",
              "#T_09182_row0_col0, #T_09182_row1_col0, #T_09182_row3_col0 {\n",
              "  background-color: #2c89bd;\n",
              "  color: #f1f1f1;\n",
              "}\n",
              "#T_09182_row0_col1, #T_09182_row1_col1 {\n",
              "  background-color: #1379b5;\n",
              "  color: #f1f1f1;\n",
              "}\n",
              "#T_09182_row0_col2, #T_09182_row1_col2, #T_09182_row3_col2 {\n",
              "  background-color: #f2ecf5;\n",
              "  color: #000000;\n",
              "}\n",
              "#T_09182_row0_col3, #T_09182_row1_col3, #T_09182_row4_col3, #T_09182_row7_col6 {\n",
              "  background-color: #e0dded;\n",
              "  color: #000000;\n",
              "}\n",
              "#T_09182_row0_col4, #T_09182_row1_col4, #T_09182_row3_col4, #T_09182_row4_col5 {\n",
              "  background-color: #328dbf;\n",
              "  color: #f1f1f1;\n",
              "}\n",
              "#T_09182_row0_col5, #T_09182_row1_col5 {\n",
              "  background-color: #2081b9;\n",
              "  color: #f1f1f1;\n",
              "}\n",
              "#T_09182_row0_col6, #T_09182_row1_col6, #T_09182_row3_col6 {\n",
              "  background-color: #ece7f2;\n",
              "  color: #000000;\n",
              "}\n",
              "#T_09182_row0_col7, #T_09182_row1_col7, #T_09182_row8_col0 {\n",
              "  background-color: #034e7b;\n",
              "  color: #f1f1f1;\n",
              "}\n",
              "#T_09182_row0_col8, #T_09182_row1_col8 {\n",
              "  background-color: #7eadd1;\n",
              "  color: #f1f1f1;\n",
              "}\n",
              "#T_09182_row0_col9, #T_09182_row1_col9 {\n",
              "  background-color: #045483;\n",
              "  color: #f1f1f1;\n",
              "}\n",
              "#T_09182_row2_col0, #T_09182_row2_col2, #T_09182_row2_col4, #T_09182_row2_col6, #T_09182_row2_col8, #T_09182_row5_col0, #T_09182_row5_col1, #T_09182_row5_col2, #T_09182_row5_col3, #T_09182_row5_col4, #T_09182_row5_col6, #T_09182_row5_col8, #T_09182_row7_col7, #T_09182_row7_col9, #T_09182_row8_col1, #T_09182_row10_col5, #T_09182_row12_col0, #T_09182_row12_col1, #T_09182_row12_col2, #T_09182_row12_col4, #T_09182_row12_col6, #T_09182_row12_col8 {\n",
              "  background-color: #023858;\n",
              "  color: #f1f1f1;\n",
              "}\n",
              "#T_09182_row2_col1 {\n",
              "  background-color: #034b76;\n",
              "  color: #f1f1f1;\n",
              "}\n",
              "#T_09182_row2_col3 {\n",
              "  background-color: #e0deed;\n",
              "  color: #000000;\n",
              "}\n",
              "#T_09182_row2_col5 {\n",
              "  background-color: #e2dfee;\n",
              "  color: #000000;\n",
              "}\n",
              "#T_09182_row2_col7 {\n",
              "  background-color: #4c99c5;\n",
              "  color: #f1f1f1;\n",
              "}\n",
              "#T_09182_row2_col9, #T_09182_row4_col2, #T_09182_row6_col2 {\n",
              "  background-color: #f0eaf4;\n",
              "  color: #000000;\n",
              "}\n",
              "#T_09182_row3_col1 {\n",
              "  background-color: #167bb6;\n",
              "  color: #f1f1f1;\n",
              "}\n",
              "#T_09182_row3_col3, #T_09182_row9_col5 {\n",
              "  background-color: #e3e0ee;\n",
              "  color: #000000;\n",
              "}\n",
              "#T_09182_row3_col5 {\n",
              "  background-color: #2d8abd;\n",
              "  color: #f1f1f1;\n",
              "}\n",
              "#T_09182_row3_col7 {\n",
              "  background-color: #045a8d;\n",
              "  color: #f1f1f1;\n",
              "}\n",
              "#T_09182_row3_col8 {\n",
              "  background-color: #80aed2;\n",
              "  color: #f1f1f1;\n",
              "}\n",
              "#T_09182_row3_col9 {\n",
              "  background-color: #056caa;\n",
              "  color: #f1f1f1;\n",
              "}\n",
              "#T_09182_row4_col0 {\n",
              "  background-color: #2182b9;\n",
              "  color: #f1f1f1;\n",
              "}\n",
              "#T_09182_row4_col1 {\n",
              "  background-color: #0c74b2;\n",
              "  color: #f1f1f1;\n",
              "}\n",
              "#T_09182_row4_col4 {\n",
              "  background-color: #308cbe;\n",
              "  color: #f1f1f1;\n",
              "}\n",
              "#T_09182_row4_col6, #T_09182_row12_col7 {\n",
              "  background-color: #e7e3f0;\n",
              "  color: #000000;\n",
              "}\n",
              "#T_09182_row4_col7, #T_09182_row9_col9 {\n",
              "  background-color: #045280;\n",
              "  color: #f1f1f1;\n",
              "}\n",
              "#T_09182_row4_col8 {\n",
              "  background-color: #73a9cf;\n",
              "  color: #f1f1f1;\n",
              "}\n",
              "#T_09182_row4_col9 {\n",
              "  background-color: #0566a0;\n",
              "  color: #f1f1f1;\n",
              "}\n",
              "#T_09182_row5_col5, #T_09182_row5_col7, #T_09182_row8_col4, #T_09182_row10_col0, #T_09182_row10_col1, #T_09182_row10_col2, #T_09182_row10_col3, #T_09182_row10_col6, #T_09182_row10_col8, #T_09182_row10_col9 {\n",
              "  background-color: #fff7fb;\n",
              "  color: #000000;\n",
              "}\n",
              "#T_09182_row5_col9, #T_09182_row12_col9 {\n",
              "  background-color: #045b8f;\n",
              "  color: #f1f1f1;\n",
              "}\n",
              "#T_09182_row6_col0 {\n",
              "  background-color: #1e80b8;\n",
              "  color: #f1f1f1;\n",
              "}\n",
              "#T_09182_row6_col1 {\n",
              "  background-color: #0771b1;\n",
              "  color: #f1f1f1;\n",
              "}\n",
              "#T_09182_row6_col3 {\n",
              "  background-color: #dbdaeb;\n",
              "  color: #000000;\n",
              "}\n",
              "#T_09182_row6_col4, #T_09182_row11_col9 {\n",
              "  background-color: #2f8bbe;\n",
              "  color: #f1f1f1;\n",
              "}\n",
              "#T_09182_row6_col5 {\n",
              "  background-color: #2a88bc;\n",
              "  color: #f1f1f1;\n",
              "}\n",
              "#T_09182_row6_col6 {\n",
              "  background-color: #e6e2ef;\n",
              "  color: #000000;\n",
              "}\n",
              "#T_09182_row6_col7 {\n",
              "  background-color: #03466e;\n",
              "  color: #f1f1f1;\n",
              "}\n",
              "#T_09182_row6_col8 {\n",
              "  background-color: #67a4cc;\n",
              "  color: #f1f1f1;\n",
              "}\n",
              "#T_09182_row6_col9 {\n",
              "  background-color: #045585;\n",
              "  color: #f1f1f1;\n",
              "}\n",
              "#T_09182_row7_col0, #T_09182_row7_col5 {\n",
              "  background-color: #1b7eb7;\n",
              "  color: #f1f1f1;\n",
              "}\n",
              "#T_09182_row7_col1 {\n",
              "  background-color: #0570b0;\n",
              "  color: #f1f1f1;\n",
              "}\n",
              "#T_09182_row7_col2 {\n",
              "  background-color: #ede8f3;\n",
              "  color: #000000;\n",
              "}\n",
              "#T_09182_row7_col3 {\n",
              "  background-color: #d6d6e9;\n",
              "  color: #000000;\n",
              "}\n",
              "#T_09182_row7_col4, #T_09182_row9_col6 {\n",
              "  background-color: #157ab5;\n",
              "  color: #f1f1f1;\n",
              "}\n",
              "#T_09182_row7_col8 {\n",
              "  background-color: #3d93c2;\n",
              "  color: #f1f1f1;\n",
              "}\n",
              "#T_09182_row8_col2 {\n",
              "  background-color: #0568a3;\n",
              "  color: #f1f1f1;\n",
              "}\n",
              "#T_09182_row8_col3 {\n",
              "  background-color: #04588a;\n",
              "  color: #f1f1f1;\n",
              "}\n",
              "#T_09182_row8_col5, #T_09182_row8_col6 {\n",
              "  background-color: #f8f1f8;\n",
              "  color: #000000;\n",
              "}\n",
              "#T_09182_row8_col7 {\n",
              "  background-color: #b8c6e0;\n",
              "  color: #000000;\n",
              "}\n",
              "#T_09182_row8_col8 {\n",
              "  background-color: #0f76b3;\n",
              "  color: #f1f1f1;\n",
              "}\n",
              "#T_09182_row8_col9, #T_09182_row9_col0 {\n",
              "  background-color: #034369;\n",
              "  color: #f1f1f1;\n",
              "}\n",
              "#T_09182_row9_col1 {\n",
              "  background-color: #023b5d;\n",
              "  color: #f1f1f1;\n",
              "}\n",
              "#T_09182_row9_col2 {\n",
              "  background-color: #045c90;\n",
              "  color: #f1f1f1;\n",
              "}\n",
              "#T_09182_row9_col3 {\n",
              "  background-color: #348ebf;\n",
              "  color: #f1f1f1;\n",
              "}\n",
              "#T_09182_row9_col4 {\n",
              "  background-color: #3991c1;\n",
              "  color: #f1f1f1;\n",
              "}\n",
              "#T_09182_row9_col7 {\n",
              "  background-color: #0567a2;\n",
              "  color: #f1f1f1;\n",
              "}\n",
              "#T_09182_row9_col8 {\n",
              "  background-color: #023e62;\n",
              "  color: #f1f1f1;\n",
              "}\n",
              "#T_09182_row10_col4 {\n",
              "  background-color: #023c5f;\n",
              "  color: #f1f1f1;\n",
              "}\n",
              "#T_09182_row10_col7 {\n",
              "  background-color: #62a2cb;\n",
              "  color: #f1f1f1;\n",
              "}\n",
              "#T_09182_row11_col0 {\n",
              "  background-color: #045e94;\n",
              "  color: #f1f1f1;\n",
              "}\n",
              "#T_09182_row11_col1 {\n",
              "  background-color: #034973;\n",
              "  color: #f1f1f1;\n",
              "}\n",
              "#T_09182_row11_col2 {\n",
              "  background-color: #ede7f2;\n",
              "  color: #000000;\n",
              "}\n",
              "#T_09182_row11_col3 {\n",
              "  background-color: #cacee5;\n",
              "  color: #000000;\n",
              "}\n",
              "#T_09182_row11_col4 {\n",
              "  background-color: #eee9f3;\n",
              "  color: #000000;\n",
              "}\n",
              "#T_09182_row11_col5 {\n",
              "  background-color: #d9d8ea;\n",
              "  color: #000000;\n",
              "}\n",
              "#T_09182_row11_col6 {\n",
              "  background-color: #f7f0f7;\n",
              "  color: #000000;\n",
              "}\n",
              "#T_09182_row11_col7 {\n",
              "  background-color: #1077b4;\n",
              "  color: #f1f1f1;\n",
              "}\n",
              "#T_09182_row11_col8 {\n",
              "  background-color: #b3c3de;\n",
              "  color: #000000;\n",
              "}\n",
              "#T_09182_row12_col3 {\n",
              "  background-color: #03476f;\n",
              "  color: #f1f1f1;\n",
              "}\n",
              "#T_09182_row12_col5 {\n",
              "  background-color: #fcf4fa;\n",
              "  color: #000000;\n",
              "}\n",
              "</style>\n",
              "<table id=\"T_09182\">\n",
              "  <thead>\n",
              "    <tr>\n",
              "      <th class=\"blank level0\" >&nbsp;</th>\n",
              "      <th id=\"T_09182_level0_col0\" class=\"col_heading level0 col0\" >train_acc</th>\n",
              "      <th id=\"T_09182_level0_col1\" class=\"col_heading level0 col1\" >test_acc</th>\n",
              "      <th id=\"T_09182_level0_col2\" class=\"col_heading level0 col2\" >train_prec</th>\n",
              "      <th id=\"T_09182_level0_col3\" class=\"col_heading level0 col3\" >test_prec</th>\n",
              "      <th id=\"T_09182_level0_col4\" class=\"col_heading level0 col4\" >train_recall</th>\n",
              "      <th id=\"T_09182_level0_col5\" class=\"col_heading level0 col5\" >test_recall</th>\n",
              "      <th id=\"T_09182_level0_col6\" class=\"col_heading level0 col6\" >train_f1</th>\n",
              "      <th id=\"T_09182_level0_col7\" class=\"col_heading level0 col7\" >test_f1</th>\n",
              "      <th id=\"T_09182_level0_col8\" class=\"col_heading level0 col8\" >train_auc</th>\n",
              "      <th id=\"T_09182_level0_col9\" class=\"col_heading level0 col9\" >test_auc</th>\n",
              "    </tr>\n",
              "  </thead>\n",
              "  <tbody>\n",
              "    <tr>\n",
              "      <th id=\"T_09182_level0_row0\" class=\"row_heading level0 row0\" >Logistic Regression</th>\n",
              "      <td id=\"T_09182_row0_col0\" class=\"data row0 col0\" >0.688201</td>\n",
              "      <td id=\"T_09182_row0_col1\" class=\"data row0 col1\" >0.685284</td>\n",
              "      <td id=\"T_09182_row0_col2\" class=\"data row0 col2\" >0.160394</td>\n",
              "      <td id=\"T_09182_row0_col3\" class=\"data row0 col3\" >0.157677</td>\n",
              "      <td id=\"T_09182_row0_col4\" class=\"data row0 col4\" >0.675186</td>\n",
              "      <td id=\"T_09182_row0_col5\" class=\"data row0 col5\" >0.670438</td>\n",
              "      <td id=\"T_09182_row0_col6\" class=\"data row0 col6\" >0.259211</td>\n",
              "      <td id=\"T_09182_row0_col7\" class=\"data row0 col7\" >0.255309</td>\n",
              "      <td id=\"T_09182_row0_col8\" class=\"data row0 col8\" >0.745930</td>\n",
              "      <td id=\"T_09182_row0_col9\" class=\"data row0 col9\" >0.743762</td>\n",
              "    </tr>\n",
              "    <tr>\n",
              "      <th id=\"T_09182_level0_row1\" class=\"row_heading level0 row1\" >Logistic Regression CV</th>\n",
              "      <td id=\"T_09182_row1_col0\" class=\"data row1 col0\" >0.688100</td>\n",
              "      <td id=\"T_09182_row1_col1\" class=\"data row1 col1\" >0.685316</td>\n",
              "      <td id=\"T_09182_row1_col2\" class=\"data row1 col2\" >0.160257</td>\n",
              "      <td id=\"T_09182_row1_col3\" class=\"data row1 col3\" >0.157692</td>\n",
              "      <td id=\"T_09182_row1_col4\" class=\"data row1 col4\" >0.674633</td>\n",
              "      <td id=\"T_09182_row1_col5\" class=\"data row1 col5\" >0.670438</td>\n",
              "      <td id=\"T_09182_row1_col6\" class=\"data row1 col6\" >0.258991</td>\n",
              "      <td id=\"T_09182_row1_col7\" class=\"data row1 col7\" >0.255329</td>\n",
              "      <td id=\"T_09182_row1_col8\" class=\"data row1 col8\" >0.745894</td>\n",
              "      <td id=\"T_09182_row1_col9\" class=\"data row1 col9\" >0.743784</td>\n",
              "    </tr>\n",
              "    <tr>\n",
              "      <th id=\"T_09182_level0_row2\" class=\"row_heading level0 row2\" >Decision Tree</th>\n",
              "      <td id=\"T_09182_row2_col0\" class=\"data row2 col0\" >1.000000</td>\n",
              "      <td id=\"T_09182_row2_col1\" class=\"data row2 col1\" >0.859487</td>\n",
              "      <td id=\"T_09182_row2_col2\" class=\"data row2 col2\" >1.000000</td>\n",
              "      <td id=\"T_09182_row2_col3\" class=\"data row2 col3\" >0.156465</td>\n",
              "      <td id=\"T_09182_row2_col4\" class=\"data row2 col4\" >1.000000</td>\n",
              "      <td id=\"T_09182_row2_col5\" class=\"data row2 col5\" >0.169933</td>\n",
              "      <td id=\"T_09182_row2_col6\" class=\"data row2 col6\" >1.000000</td>\n",
              "      <td id=\"T_09182_row2_col7\" class=\"data row2 col7\" >0.162921</td>\n",
              "      <td id=\"T_09182_row2_col8\" class=\"data row2 col8\" >1.000000</td>\n",
              "      <td id=\"T_09182_row2_col9\" class=\"data row2 col9\" >0.544881</td>\n",
              "    </tr>\n",
              "    <tr>\n",
              "      <th id=\"T_09182_level0_row3\" class=\"row_heading level0 row3\" >Decision Tree CV</th>\n",
              "      <td id=\"T_09182_row3_col0\" class=\"data row3 col0\" >0.688075</td>\n",
              "      <td id=\"T_09182_row3_col1\" class=\"data row3 col1\" >0.680910</td>\n",
              "      <td id=\"T_09182_row3_col2\" class=\"data row3 col2\" >0.159953</td>\n",
              "      <td id=\"T_09182_row3_col3\" class=\"data row3 col3\" >0.150405</td>\n",
              "      <td id=\"T_09182_row3_col4\" class=\"data row3 col4\" >0.672821</td>\n",
              "      <td id=\"T_09182_row3_col5\" class=\"data row3 col5\" >0.637907</td>\n",
              "      <td id=\"T_09182_row3_col6\" class=\"data row3 col6\" >0.258460</td>\n",
              "      <td id=\"T_09182_row3_col7\" class=\"data row3 col7\" >0.243417</td>\n",
              "      <td id=\"T_09182_row3_col8\" class=\"data row3 col8\" >0.744455</td>\n",
              "      <td id=\"T_09182_row3_col9\" class=\"data row3 col9\" >0.712928</td>\n",
              "    </tr>\n",
              "    <tr>\n",
              "      <th id=\"T_09182_level0_row4\" class=\"row_heading level0 row4\" >AdaBoosted Decision Tree</th>\n",
              "      <td id=\"T_09182_row4_col0\" class=\"data row4 col0\" >0.711578</td>\n",
              "      <td id=\"T_09182_row4_col1\" class=\"data row4 col1\" >0.702307</td>\n",
              "      <td id=\"T_09182_row4_col2\" class=\"data row4 col2\" >0.172694</td>\n",
              "      <td id=\"T_09182_row4_col3\" class=\"data row4 col3\" >0.158032</td>\n",
              "      <td id=\"T_09182_row4_col4\" class=\"data row4 col4\" >0.677953</td>\n",
              "      <td id=\"T_09182_row4_col5\" class=\"data row4 col5\" >0.623762</td>\n",
              "      <td id=\"T_09182_row4_col6\" class=\"data row4 col6\" >0.275270</td>\n",
              "      <td id=\"T_09182_row4_col7\" class=\"data row4 col7\" >0.252175</td>\n",
              "      <td id=\"T_09182_row4_col8\" class=\"data row4 col8\" >0.758932</td>\n",
              "      <td id=\"T_09182_row4_col9\" class=\"data row4 col9\" >0.721342</td>\n",
              "    </tr>\n",
              "    <tr>\n",
              "      <th id=\"T_09182_level0_row5\" class=\"row_heading level0 row5\" >Random Forest</th>\n",
              "      <td id=\"T_09182_row5_col0\" class=\"data row5 col0\" >0.999967</td>\n",
              "      <td id=\"T_09182_row5_col1\" class=\"data row5 col1\" >0.919532</td>\n",
              "      <td id=\"T_09182_row5_col2\" class=\"data row5 col2\" >1.000000</td>\n",
              "      <td id=\"T_09182_row5_col3\" class=\"data row5 col3\" >0.500000</td>\n",
              "      <td id=\"T_09182_row5_col4\" class=\"data row5 col4\" >0.999598</td>\n",
              "      <td id=\"T_09182_row5_col5\" class=\"data row5 col5\" >0.001819</td>\n",
              "      <td id=\"T_09182_row5_col6\" class=\"data row5 col6\" >0.999799</td>\n",
              "      <td id=\"T_09182_row5_col7\" class=\"data row5 col7\" >0.003624</td>\n",
              "      <td id=\"T_09182_row5_col8\" class=\"data row5 col8\" >1.000000</td>\n",
              "      <td id=\"T_09182_row5_col9\" class=\"data row5 col9\" >0.736460</td>\n",
              "    </tr>\n",
              "    <tr>\n",
              "      <th id=\"T_09182_level0_row6\" class=\"row_heading level0 row6\" >Random Forest CV</th>\n",
              "      <td id=\"T_09182_row6_col0\" class=\"data row6 col0\" >0.719192</td>\n",
              "      <td id=\"T_09182_row6_col1\" class=\"data row6 col1\" >0.711185</td>\n",
              "      <td id=\"T_09182_row6_col2\" class=\"data row6 col2\" >0.177501</td>\n",
              "      <td id=\"T_09182_row6_col3\" class=\"data row6 col3\" >0.166128</td>\n",
              "      <td id=\"T_09182_row6_col4\" class=\"data row6 col4\" >0.681274</td>\n",
              "      <td id=\"T_09182_row6_col5\" class=\"data row6 col5\" >0.644171</td>\n",
              "      <td id=\"T_09182_row6_col6\" class=\"data row6 col6\" >0.281626</td>\n",
              "      <td id=\"T_09182_row6_col7\" class=\"data row6 col7\" >0.264137</td>\n",
              "      <td id=\"T_09182_row6_col8\" class=\"data row6 col8\" >0.770360</td>\n",
              "      <td id=\"T_09182_row6_col9\" class=\"data row6 col9\" >0.743152</td>\n",
              "    </tr>\n",
              "    <tr>\n",
              "      <th id=\"T_09182_level0_row7\" class=\"row_heading level0 row7\" >Histogram-based Gradient Boosting Tree</th>\n",
              "      <td id=\"T_09182_row7_col0\" class=\"data row7 col0\" >0.728249</td>\n",
              "      <td id=\"T_09182_row7_col1\" class=\"data row7 col1\" >0.715380</td>\n",
              "      <td id=\"T_09182_row7_col2\" class=\"data row7 col2\" >0.192635</td>\n",
              "      <td id=\"T_09182_row7_col3\" class=\"data row7 col3\" >0.174917</td>\n",
              "      <td id=\"T_09182_row7_col4\" class=\"data row7 col4\" >0.740642</td>\n",
              "      <td id=\"T_09182_row7_col5\" class=\"data row7 col5\" >0.682562</td>\n",
              "      <td id=\"T_09182_row7_col6\" class=\"data row7 col6\" >0.305748</td>\n",
              "      <td id=\"T_09182_row7_col7\" class=\"data row7 col7\" >0.278472</td>\n",
              "      <td id=\"T_09182_row7_col8\" class=\"data row7 col8\" >0.812410</td>\n",
              "      <td id=\"T_09182_row7_col9\" class=\"data row7 col9\" >0.769900</td>\n",
              "    </tr>\n",
              "    <tr>\n",
              "      <th id=\"T_09182_level0_row8\" class=\"row_heading level0 row8\" >XGBoost</th>\n",
              "      <td id=\"T_09182_row8_col0\" class=\"data row8 col0\" >0.925974</td>\n",
              "      <td id=\"T_09182_row8_col1\" class=\"data row8 col1\" >0.918638</td>\n",
              "      <td id=\"T_09182_row8_col2\" class=\"data row8 col2\" >0.812617</td>\n",
              "      <td id=\"T_09182_row8_col3\" class=\"data row8 col3\" >0.450980</td>\n",
              "      <td id=\"T_09182_row8_col4\" class=\"data row8 col4\" >0.108875</td>\n",
              "      <td id=\"T_09182_row8_col5\" class=\"data row8 col5\" >0.051121</td>\n",
              "      <td id=\"T_09182_row8_col6\" class=\"data row8 col6\" >0.192023</td>\n",
              "      <td id=\"T_09182_row8_col7\" class=\"data row8 col7\" >0.091833</td>\n",
              "      <td id=\"T_09182_row8_col8\" class=\"data row8 col8\" >0.866603</td>\n",
              "      <td id=\"T_09182_row8_col9\" class=\"data row8 col9\" >0.760074</td>\n",
              "    </tr>\n",
              "    <tr>\n",
              "      <th id=\"T_09182_level0_row9\" class=\"row_heading level0 row9\" >XGBoost Random Forest</th>\n",
              "      <td id=\"T_09182_row9_col0\" class=\"data row9 col0\" >0.964757</td>\n",
              "      <td id=\"T_09182_row9_col1\" class=\"data row9 col1\" >0.907647</td>\n",
              "      <td id=\"T_09182_row9_col2\" class=\"data row9 col2\" >0.873086</td>\n",
              "      <td id=\"T_09182_row9_col3\" class=\"data row9 col3\" >0.345455</td>\n",
              "      <td id=\"T_09182_row9_col4\" class=\"data row9 col4\" >0.659690</td>\n",
              "      <td id=\"T_09182_row9_col5\" class=\"data row9 col5\" >0.165084</td>\n",
              "      <td id=\"T_09182_row9_col6\" class=\"data row9 col6\" >0.751533</td>\n",
              "      <td id=\"T_09182_row9_col7\" class=\"data row9 col7\" >0.223407</td>\n",
              "      <td id=\"T_09182_row9_col8\" class=\"data row9 col8\" >0.988605</td>\n",
              "      <td id=\"T_09182_row9_col9\" class=\"data row9 col9\" >0.745909</td>\n",
              "    </tr>\n",
              "    <tr>\n",
              "      <th id=\"T_09182_level0_row10\" class=\"row_heading level0 row10\" >Gaussian</th>\n",
              "      <td id=\"T_09182_row10_col0\" class=\"data row10 col0\" >0.108545</td>\n",
              "      <td id=\"T_09182_row10_col1\" class=\"data row10 col1\" >0.108856</td>\n",
              "      <td id=\"T_09182_row10_col2\" class=\"data row10 col2\" >0.081954</td>\n",
              "      <td id=\"T_09182_row10_col3\" class=\"data row10 col3\" >0.081713</td>\n",
              "      <td id=\"T_09182_row10_col4\" class=\"data row10 col4\" >0.983498</td>\n",
              "      <td id=\"T_09182_row10_col5\" class=\"data row10 col5\" >0.984037</td>\n",
              "      <td id=\"T_09182_row10_col6\" class=\"data row10 col6\" >0.151300</td>\n",
              "      <td id=\"T_09182_row10_col7\" class=\"data row10 col7\" >0.150895</td>\n",
              "      <td id=\"T_09182_row10_col8\" class=\"data row10 col8\" >0.517714</td>\n",
              "      <td id=\"T_09182_row10_col9\" class=\"data row10 col9\" >0.518487</td>\n",
              "    </tr>\n",
              "    <tr>\n",
              "      <th id=\"T_09182_level0_row11\" class=\"row_heading level0 row11\" >Bernoulli</th>\n",
              "      <td id=\"T_09182_row11_col0\" class=\"data row11 col0\" >0.866504</td>\n",
              "      <td id=\"T_09182_row11_col1\" class=\"data row11 col1\" >0.865763</td>\n",
              "      <td id=\"T_09182_row11_col2\" class=\"data row11 col2\" >0.194351</td>\n",
              "      <td id=\"T_09182_row11_col3\" class=\"data row11 col3\" >0.193057</td>\n",
              "      <td id=\"T_09182_row11_col4\" class=\"data row11 col4\" >0.207386</td>\n",
              "      <td id=\"T_09182_row11_col5\" class=\"data row11 col5\" >0.210143</td>\n",
              "      <td id=\"T_09182_row11_col6\" class=\"data row11 col6\" >0.200657</td>\n",
              "      <td id=\"T_09182_row11_col7\" class=\"data row11 col7\" >0.201238</td>\n",
              "      <td id=\"T_09182_row11_col8\" class=\"data row11 col8\" >0.680752</td>\n",
              "      <td id=\"T_09182_row11_col9\" class=\"data row11 col9\" >0.680338</td>\n",
              "    </tr>\n",
              "    <tr>\n",
              "      <th id=\"T_09182_level0_row12\" class=\"row_heading level0 row12\" >Stacked Classifier</th>\n",
              "      <td id=\"T_09182_row12_col0\" class=\"data row12 col0\" >1.000000</td>\n",
              "      <td id=\"T_09182_row12_col1\" class=\"data row12 col1\" >0.919354</td>\n",
              "      <td id=\"T_09182_row12_col2\" class=\"data row12 col2\" >1.000000</td>\n",
              "      <td id=\"T_09182_row12_col3\" class=\"data row12 col3\" >0.476987</td>\n",
              "      <td id=\"T_09182_row12_col4\" class=\"data row12 col4\" >1.000000</td>\n",
              "      <td id=\"T_09182_row12_col5\" class=\"data row12 col5\" >0.023035</td>\n",
              "      <td id=\"T_09182_row12_col6\" class=\"data row12 col6\" >1.000000</td>\n",
              "      <td id=\"T_09182_row12_col7\" class=\"data row12 col7\" >0.043948</td>\n",
              "      <td id=\"T_09182_row12_col8\" class=\"data row12 col8\" >1.000000</td>\n",
              "      <td id=\"T_09182_row12_col9\" class=\"data row12 col9\" >0.735550</td>\n",
              "    </tr>\n",
              "  </tbody>\n",
              "</table>\n"
            ],
            "text/plain": [
              "<pandas.io.formats.style.Styler at 0x16e700b60>"
            ]
          },
          "execution_count": 110,
          "metadata": {},
          "output_type": "execute_result"
        }
      ],
      "source": [
        "stacked_clf_results.style.background_gradient()"
      ]
    },
    {
      "cell_type": "markdown",
      "metadata": {
        "id": "d-js7kU3hefM"
      },
      "source": [
        "# Calibration"
      ]
    },
    {
      "cell_type": "code",
      "execution_count": 111,
      "metadata": {
        "id": "CwisS6v1hefM"
      },
      "outputs": [
        {
          "name": "stderr",
          "output_type": "stream",
          "text": [
            "/opt/anaconda3/envs/datascience/lib/python3.12/site-packages/sklearn/utils/validation.py:2732: UserWarning: X has feature names, but LogisticRegression was fitted without feature names\n",
            "  warnings.warn(\n",
            "/opt/anaconda3/envs/datascience/lib/python3.12/site-packages/sklearn/utils/validation.py:2732: UserWarning: X has feature names, but LogisticRegression was fitted without feature names\n",
            "  warnings.warn(\n",
            "/opt/anaconda3/envs/datascience/lib/python3.12/site-packages/sklearn/utils/validation.py:2732: UserWarning: X has feature names, but LogisticRegression was fitted without feature names\n",
            "  warnings.warn(\n",
            "/opt/anaconda3/envs/datascience/lib/python3.12/site-packages/sklearn/utils/validation.py:2732: UserWarning: X has feature names, but LogisticRegression was fitted without feature names\n",
            "  warnings.warn(\n",
            "/opt/anaconda3/envs/datascience/lib/python3.12/site-packages/sklearn/utils/validation.py:2732: UserWarning: X has feature names, but LogisticRegression was fitted without feature names\n",
            "  warnings.warn(\n",
            "/opt/anaconda3/envs/datascience/lib/python3.12/site-packages/sklearn/utils/validation.py:2732: UserWarning: X has feature names, but LogisticRegression was fitted without feature names\n",
            "  warnings.warn(\n",
            "/opt/anaconda3/envs/datascience/lib/python3.12/site-packages/sklearn/utils/validation.py:2732: UserWarning: X has feature names, but LogisticRegression was fitted without feature names\n",
            "  warnings.warn(\n",
            "/opt/anaconda3/envs/datascience/lib/python3.12/site-packages/sklearn/utils/validation.py:2732: UserWarning: X has feature names, but LogisticRegression was fitted without feature names\n",
            "  warnings.warn(\n",
            "/opt/anaconda3/envs/datascience/lib/python3.12/site-packages/sklearn/utils/validation.py:2732: UserWarning: X has feature names, but LogisticRegression was fitted without feature names\n",
            "  warnings.warn(\n",
            "/opt/anaconda3/envs/datascience/lib/python3.12/site-packages/sklearn/utils/validation.py:2732: UserWarning: X has feature names, but LogisticRegression was fitted without feature names\n",
            "  warnings.warn(\n",
            "/opt/anaconda3/envs/datascience/lib/python3.12/site-packages/sklearn/utils/validation.py:2732: UserWarning: X has feature names, but LogisticRegression was fitted without feature names\n",
            "  warnings.warn(\n",
            "/opt/anaconda3/envs/datascience/lib/python3.12/site-packages/sklearn/utils/validation.py:2732: UserWarning: X has feature names, but LogisticRegression was fitted without feature names\n",
            "  warnings.warn(\n"
          ]
        },
        {
          "name": "stdout",
          "output_type": "stream",
          "text": [
            "                    Train Evaluation                                       Test Evaluation                   \n",
            "              precision    recall  f1-score   support                precision    recall  f1-score   support \n",
            "                                                                                                             \n",
            "           0       1.00      1.00      1.00    226132             0       0.92      1.00      0.96     56554 \n",
            "           1       1.00      1.00      1.00     19876             1       0.44      0.04      0.08      4949 \n",
            "                                                                                                             \n",
            "    accuracy                           1.00    246008      accuracy                           0.92     61503 \n",
            "   macro avg       1.00      1.00      1.00    246008     macro avg       0.68      0.52      0.52     61503 \n",
            "weighted avg       1.00      1.00      1.00    246008  weighted avg       0.88      0.92      0.89     61503 \n"
          ]
        },
        {
          "data": {
            "image/png": "[encoded data removed]",
            "text/plain": [
              "<Figure size 800x400 with 4 Axes>"
            ]
          },
          "metadata": {},
          "output_type": "display_data"
        },
        {
          "name": "stderr",
          "output_type": "stream",
          "text": [
            "/opt/anaconda3/envs/datascience/lib/python3.12/site-packages/sklearn/utils/validation.py:2732: UserWarning: X has feature names, but LogisticRegression was fitted without feature names\n",
            "  warnings.warn(\n",
            "/opt/anaconda3/envs/datascience/lib/python3.12/site-packages/sklearn/utils/validation.py:2732: UserWarning: X has feature names, but LogisticRegression was fitted without feature names\n",
            "  warnings.warn(\n"
          ]
        }
      ],
      "source": [
        "calibrated_clf = CalibratedClassifierCV(FrozenEstimator(stacked_clf), cv=10, n_jobs=-1).fit(X_test, y_test)\n",
        "\n",
        "calibrated_clf_results = eval_classification(calibrated_clf, X_train, y_train, X_test, y_test,\n",
        "                                  model_name=\"Calibrated Classifier\", results_frame=stacked_clf_results)"
      ]
    },
    {
      "cell_type": "code",
      "execution_count": 112,
      "metadata": {},
      "outputs": [
        {
          "data": {
            "text/html": [
              "<style type=\"text/css\">\n",
              "#T_16429_row0_col0, #T_16429_row1_col0, #T_16429_row3_col0 {\n",
              "  background-color: #2c89bd;\n",
              "  color: #f1f1f1;\n",
              "}\n",
              "#T_16429_row0_col1, #T_16429_row1_col1 {\n",
              "  background-color: #1379b5;\n",
              "  color: #f1f1f1;\n",
              "}\n",
              "#T_16429_row0_col2, #T_16429_row1_col2, #T_16429_row3_col2 {\n",
              "  background-color: #f2ecf5;\n",
              "  color: #000000;\n",
              "}\n",
              "#T_16429_row0_col3, #T_16429_row1_col3, #T_16429_row4_col3, #T_16429_row7_col6 {\n",
              "  background-color: #e0dded;\n",
              "  color: #000000;\n",
              "}\n",
              "#T_16429_row0_col4, #T_16429_row1_col4, #T_16429_row3_col4, #T_16429_row4_col5 {\n",
              "  background-color: #328dbf;\n",
              "  color: #f1f1f1;\n",
              "}\n",
              "#T_16429_row0_col5, #T_16429_row1_col5 {\n",
              "  background-color: #2081b9;\n",
              "  color: #f1f1f1;\n",
              "}\n",
              "#T_16429_row0_col6, #T_16429_row1_col6, #T_16429_row3_col6 {\n",
              "  background-color: #ece7f2;\n",
              "  color: #000000;\n",
              "}\n",
              "#T_16429_row0_col7, #T_16429_row1_col7, #T_16429_row8_col0 {\n",
              "  background-color: #034e7b;\n",
              "  color: #f1f1f1;\n",
              "}\n",
              "#T_16429_row0_col8, #T_16429_row1_col8 {\n",
              "  background-color: #7eadd1;\n",
              "  color: #f1f1f1;\n",
              "}\n",
              "#T_16429_row0_col9, #T_16429_row1_col9 {\n",
              "  background-color: #045483;\n",
              "  color: #f1f1f1;\n",
              "}\n",
              "#T_16429_row2_col0, #T_16429_row2_col2, #T_16429_row2_col4, #T_16429_row2_col6, #T_16429_row2_col8, #T_16429_row5_col0, #T_16429_row5_col1, #T_16429_row5_col2, #T_16429_row5_col3, #T_16429_row5_col4, #T_16429_row5_col6, #T_16429_row5_col8, #T_16429_row7_col7, #T_16429_row7_col9, #T_16429_row8_col1, #T_16429_row10_col5, #T_16429_row12_col0, #T_16429_row12_col1, #T_16429_row12_col2, #T_16429_row12_col4, #T_16429_row12_col6, #T_16429_row12_col8, #T_16429_row13_col0, #T_16429_row13_col1, #T_16429_row13_col2, #T_16429_row13_col4, #T_16429_row13_col6, #T_16429_row13_col8 {\n",
              "  background-color: #023858;\n",
              "  color: #f1f1f1;\n",
              "}\n",
              "#T_16429_row2_col1 {\n",
              "  background-color: #034b76;\n",
              "  color: #f1f1f1;\n",
              "}\n",
              "#T_16429_row2_col3 {\n",
              "  background-color: #e0deed;\n",
              "  color: #000000;\n",
              "}\n",
              "#T_16429_row2_col5 {\n",
              "  background-color: #e2dfee;\n",
              "  color: #000000;\n",
              "}\n",
              "#T_16429_row2_col7 {\n",
              "  background-color: #4c99c5;\n",
              "  color: #f1f1f1;\n",
              "}\n",
              "#T_16429_row2_col9, #T_16429_row4_col2, #T_16429_row6_col2 {\n",
              "  background-color: #f0eaf4;\n",
              "  color: #000000;\n",
              "}\n",
              "#T_16429_row3_col1 {\n",
              "  background-color: #167bb6;\n",
              "  color: #f1f1f1;\n",
              "}\n",
              "#T_16429_row3_col3, #T_16429_row9_col5 {\n",
              "  background-color: #e3e0ee;\n",
              "  color: #000000;\n",
              "}\n",
              "#T_16429_row3_col5 {\n",
              "  background-color: #2d8abd;\n",
              "  color: #f1f1f1;\n",
              "}\n",
              "#T_16429_row3_col7 {\n",
              "  background-color: #045a8d;\n",
              "  color: #f1f1f1;\n",
              "}\n",
              "#T_16429_row3_col8 {\n",
              "  background-color: #80aed2;\n",
              "  color: #f1f1f1;\n",
              "}\n",
              "#T_16429_row3_col9 {\n",
              "  background-color: #056caa;\n",
              "  color: #f1f1f1;\n",
              "}\n",
              "#T_16429_row4_col0 {\n",
              "  background-color: #2182b9;\n",
              "  color: #f1f1f1;\n",
              "}\n",
              "#T_16429_row4_col1 {\n",
              "  background-color: #0c74b2;\n",
              "  color: #f1f1f1;\n",
              "}\n",
              "#T_16429_row4_col4 {\n",
              "  background-color: #308cbe;\n",
              "  color: #f1f1f1;\n",
              "}\n",
              "#T_16429_row4_col6, #T_16429_row12_col7 {\n",
              "  background-color: #e7e3f0;\n",
              "  color: #000000;\n",
              "}\n",
              "#T_16429_row4_col7, #T_16429_row9_col9 {\n",
              "  background-color: #045280;\n",
              "  color: #f1f1f1;\n",
              "}\n",
              "#T_16429_row4_col8 {\n",
              "  background-color: #73a9cf;\n",
              "  color: #f1f1f1;\n",
              "}\n",
              "#T_16429_row4_col9 {\n",
              "  background-color: #0566a0;\n",
              "  color: #f1f1f1;\n",
              "}\n",
              "#T_16429_row5_col5, #T_16429_row5_col7, #T_16429_row8_col4, #T_16429_row10_col0, #T_16429_row10_col1, #T_16429_row10_col2, #T_16429_row10_col3, #T_16429_row10_col6, #T_16429_row10_col8, #T_16429_row10_col9 {\n",
              "  background-color: #fff7fb;\n",
              "  color: #000000;\n",
              "}\n",
              "#T_16429_row5_col9, #T_16429_row12_col9, #T_16429_row13_col9 {\n",
              "  background-color: #045b8f;\n",
              "  color: #f1f1f1;\n",
              "}\n",
              "#T_16429_row6_col0 {\n",
              "  background-color: #1e80b8;\n",
              "  color: #f1f1f1;\n",
              "}\n",
              "#T_16429_row6_col1 {\n",
              "  background-color: #0771b1;\n",
              "  color: #f1f1f1;\n",
              "}\n",
              "#T_16429_row6_col3 {\n",
              "  background-color: #dbdaeb;\n",
              "  color: #000000;\n",
              "}\n",
              "#T_16429_row6_col4, #T_16429_row11_col9 {\n",
              "  background-color: #2f8bbe;\n",
              "  color: #f1f1f1;\n",
              "}\n",
              "#T_16429_row6_col5 {\n",
              "  background-color: #2a88bc;\n",
              "  color: #f1f1f1;\n",
              "}\n",
              "#T_16429_row6_col6 {\n",
              "  background-color: #e6e2ef;\n",
              "  color: #000000;\n",
              "}\n",
              "#T_16429_row6_col7 {\n",
              "  background-color: #03466e;\n",
              "  color: #f1f1f1;\n",
              "}\n",
              "#T_16429_row6_col8 {\n",
              "  background-color: #67a4cc;\n",
              "  color: #f1f1f1;\n",
              "}\n",
              "#T_16429_row6_col9 {\n",
              "  background-color: #045585;\n",
              "  color: #f1f1f1;\n",
              "}\n",
              "#T_16429_row7_col0, #T_16429_row7_col5 {\n",
              "  background-color: #1b7eb7;\n",
              "  color: #f1f1f1;\n",
              "}\n",
              "#T_16429_row7_col1 {\n",
              "  background-color: #0570b0;\n",
              "  color: #f1f1f1;\n",
              "}\n",
              "#T_16429_row7_col2 {\n",
              "  background-color: #ede8f3;\n",
              "  color: #000000;\n",
              "}\n",
              "#T_16429_row7_col3 {\n",
              "  background-color: #d6d6e9;\n",
              "  color: #000000;\n",
              "}\n",
              "#T_16429_row7_col4, #T_16429_row9_col6 {\n",
              "  background-color: #157ab5;\n",
              "  color: #f1f1f1;\n",
              "}\n",
              "#T_16429_row7_col8 {\n",
              "  background-color: #3d93c2;\n",
              "  color: #f1f1f1;\n",
              "}\n",
              "#T_16429_row8_col2 {\n",
              "  background-color: #0568a3;\n",
              "  color: #f1f1f1;\n",
              "}\n",
              "#T_16429_row8_col3 {\n",
              "  background-color: #04588a;\n",
              "  color: #f1f1f1;\n",
              "}\n",
              "#T_16429_row8_col5, #T_16429_row8_col6 {\n",
              "  background-color: #f8f1f8;\n",
              "  color: #000000;\n",
              "}\n",
              "#T_16429_row8_col7 {\n",
              "  background-color: #b8c6e0;\n",
              "  color: #000000;\n",
              "}\n",
              "#T_16429_row8_col8 {\n",
              "  background-color: #0f76b3;\n",
              "  color: #f1f1f1;\n",
              "}\n",
              "#T_16429_row8_col9, #T_16429_row9_col0 {\n",
              "  background-color: #034369;\n",
              "  color: #f1f1f1;\n",
              "}\n",
              "#T_16429_row9_col1 {\n",
              "  background-color: #023b5d;\n",
              "  color: #f1f1f1;\n",
              "}\n",
              "#T_16429_row9_col2 {\n",
              "  background-color: #045c90;\n",
              "  color: #f1f1f1;\n",
              "}\n",
              "#T_16429_row9_col3 {\n",
              "  background-color: #348ebf;\n",
              "  color: #f1f1f1;\n",
              "}\n",
              "#T_16429_row9_col4 {\n",
              "  background-color: #3991c1;\n",
              "  color: #f1f1f1;\n",
              "}\n",
              "#T_16429_row9_col7 {\n",
              "  background-color: #0567a2;\n",
              "  color: #f1f1f1;\n",
              "}\n",
              "#T_16429_row9_col8 {\n",
              "  background-color: #023e62;\n",
              "  color: #f1f1f1;\n",
              "}\n",
              "#T_16429_row10_col4 {\n",
              "  background-color: #023c5f;\n",
              "  color: #f1f1f1;\n",
              "}\n",
              "#T_16429_row10_col7 {\n",
              "  background-color: #62a2cb;\n",
              "  color: #f1f1f1;\n",
              "}\n",
              "#T_16429_row11_col0 {\n",
              "  background-color: #045e94;\n",
              "  color: #f1f1f1;\n",
              "}\n",
              "#T_16429_row11_col1 {\n",
              "  background-color: #034973;\n",
              "  color: #f1f1f1;\n",
              "}\n",
              "#T_16429_row11_col2 {\n",
              "  background-color: #ede7f2;\n",
              "  color: #000000;\n",
              "}\n",
              "#T_16429_row11_col3 {\n",
              "  background-color: #cacee5;\n",
              "  color: #000000;\n",
              "}\n",
              "#T_16429_row11_col4 {\n",
              "  background-color: #eee9f3;\n",
              "  color: #000000;\n",
              "}\n",
              "#T_16429_row11_col5 {\n",
              "  background-color: #d9d8ea;\n",
              "  color: #000000;\n",
              "}\n",
              "#T_16429_row11_col6 {\n",
              "  background-color: #f7f0f7;\n",
              "  color: #000000;\n",
              "}\n",
              "#T_16429_row11_col7 {\n",
              "  background-color: #1077b4;\n",
              "  color: #f1f1f1;\n",
              "}\n",
              "#T_16429_row11_col8 {\n",
              "  background-color: #b3c3de;\n",
              "  color: #000000;\n",
              "}\n",
              "#T_16429_row12_col3 {\n",
              "  background-color: #03476f;\n",
              "  color: #f1f1f1;\n",
              "}\n",
              "#T_16429_row12_col5 {\n",
              "  background-color: #fcf4fa;\n",
              "  color: #000000;\n",
              "}\n",
              "#T_16429_row13_col3 {\n",
              "  background-color: #045d92;\n",
              "  color: #f1f1f1;\n",
              "}\n",
              "#T_16429_row13_col5 {\n",
              "  background-color: #f9f2f8;\n",
              "  color: #000000;\n",
              "}\n",
              "#T_16429_row13_col7 {\n",
              "  background-color: #c8cde4;\n",
              "  color: #000000;\n",
              "}\n",
              "</style>\n",
              "<table id=\"T_16429\">\n",
              "  <thead>\n",
              "    <tr>\n",
              "      <th class=\"blank level0\" >&nbsp;</th>\n",
              "      <th id=\"T_16429_level0_col0\" class=\"col_heading level0 col0\" >train_acc</th>\n",
              "      <th id=\"T_16429_level0_col1\" class=\"col_heading level0 col1\" >test_acc</th>\n",
              "      <th id=\"T_16429_level0_col2\" class=\"col_heading level0 col2\" >train_prec</th>\n",
              "      <th id=\"T_16429_level0_col3\" class=\"col_heading level0 col3\" >test_prec</th>\n",
              "      <th id=\"T_16429_level0_col4\" class=\"col_heading level0 col4\" >train_recall</th>\n",
              "      <th id=\"T_16429_level0_col5\" class=\"col_heading level0 col5\" >test_recall</th>\n",
              "      <th id=\"T_16429_level0_col6\" class=\"col_heading level0 col6\" >train_f1</th>\n",
              "      <th id=\"T_16429_level0_col7\" class=\"col_heading level0 col7\" >test_f1</th>\n",
              "      <th id=\"T_16429_level0_col8\" class=\"col_heading level0 col8\" >train_auc</th>\n",
              "      <th id=\"T_16429_level0_col9\" class=\"col_heading level0 col9\" >test_auc</th>\n",
              "    </tr>\n",
              "  </thead>\n",
              "  <tbody>\n",
              "    <tr>\n",
              "      <th id=\"T_16429_level0_row0\" class=\"row_heading level0 row0\" >Logistic Regression</th>\n",
              "      <td id=\"T_16429_row0_col0\" class=\"data row0 col0\" >0.688201</td>\n",
              "      <td id=\"T_16429_row0_col1\" class=\"data row0 col1\" >0.685284</td>\n",
              "      <td id=\"T_16429_row0_col2\" class=\"data row0 col2\" >0.160394</td>\n",
              "      <td id=\"T_16429_row0_col3\" class=\"data row0 col3\" >0.157677</td>\n",
              "      <td id=\"T_16429_row0_col4\" class=\"data row0 col4\" >0.675186</td>\n",
              "      <td id=\"T_16429_row0_col5\" class=\"data row0 col5\" >0.670438</td>\n",
              "      <td id=\"T_16429_row0_col6\" class=\"data row0 col6\" >0.259211</td>\n",
              "      <td id=\"T_16429_row0_col7\" class=\"data row0 col7\" >0.255309</td>\n",
              "      <td id=\"T_16429_row0_col8\" class=\"data row0 col8\" >0.745930</td>\n",
              "      <td id=\"T_16429_row0_col9\" class=\"data row0 col9\" >0.743762</td>\n",
              "    </tr>\n",
              "    <tr>\n",
              "      <th id=\"T_16429_level0_row1\" class=\"row_heading level0 row1\" >Logistic Regression CV</th>\n",
              "      <td id=\"T_16429_row1_col0\" class=\"data row1 col0\" >0.688100</td>\n",
              "      <td id=\"T_16429_row1_col1\" class=\"data row1 col1\" >0.685316</td>\n",
              "      <td id=\"T_16429_row1_col2\" class=\"data row1 col2\" >0.160257</td>\n",
              "      <td id=\"T_16429_row1_col3\" class=\"data row1 col3\" >0.157692</td>\n",
              "      <td id=\"T_16429_row1_col4\" class=\"data row1 col4\" >0.674633</td>\n",
              "      <td id=\"T_16429_row1_col5\" class=\"data row1 col5\" >0.670438</td>\n",
              "      <td id=\"T_16429_row1_col6\" class=\"data row1 col6\" >0.258991</td>\n",
              "      <td id=\"T_16429_row1_col7\" class=\"data row1 col7\" >0.255329</td>\n",
              "      <td id=\"T_16429_row1_col8\" class=\"data row1 col8\" >0.745894</td>\n",
              "      <td id=\"T_16429_row1_col9\" class=\"data row1 col9\" >0.743784</td>\n",
              "    </tr>\n",
              "    <tr>\n",
              "      <th id=\"T_16429_level0_row2\" class=\"row_heading level0 row2\" >Decision Tree</th>\n",
              "      <td id=\"T_16429_row2_col0\" class=\"data row2 col0\" >1.000000</td>\n",
              "      <td id=\"T_16429_row2_col1\" class=\"data row2 col1\" >0.859487</td>\n",
              "      <td id=\"T_16429_row2_col2\" class=\"data row2 col2\" >1.000000</td>\n",
              "      <td id=\"T_16429_row2_col3\" class=\"data row2 col3\" >0.156465</td>\n",
              "      <td id=\"T_16429_row2_col4\" class=\"data row2 col4\" >1.000000</td>\n",
              "      <td id=\"T_16429_row2_col5\" class=\"data row2 col5\" >0.169933</td>\n",
              "      <td id=\"T_16429_row2_col6\" class=\"data row2 col6\" >1.000000</td>\n",
              "      <td id=\"T_16429_row2_col7\" class=\"data row2 col7\" >0.162921</td>\n",
              "      <td id=\"T_16429_row2_col8\" class=\"data row2 col8\" >1.000000</td>\n",
              "      <td id=\"T_16429_row2_col9\" class=\"data row2 col9\" >0.544881</td>\n",
              "    </tr>\n",
              "    <tr>\n",
              "      <th id=\"T_16429_level0_row3\" class=\"row_heading level0 row3\" >Decision Tree CV</th>\n",
              "      <td id=\"T_16429_row3_col0\" class=\"data row3 col0\" >0.688075</td>\n",
              "      <td id=\"T_16429_row3_col1\" class=\"data row3 col1\" >0.680910</td>\n",
              "      <td id=\"T_16429_row3_col2\" class=\"data row3 col2\" >0.159953</td>\n",
              "      <td id=\"T_16429_row3_col3\" class=\"data row3 col3\" >0.150405</td>\n",
              "      <td id=\"T_16429_row3_col4\" class=\"data row3 col4\" >0.672821</td>\n",
              "      <td id=\"T_16429_row3_col5\" class=\"data row3 col5\" >0.637907</td>\n",
              "      <td id=\"T_16429_row3_col6\" class=\"data row3 col6\" >0.258460</td>\n",
              "      <td id=\"T_16429_row3_col7\" class=\"data row3 col7\" >0.243417</td>\n",
              "      <td id=\"T_16429_row3_col8\" class=\"data row3 col8\" >0.744455</td>\n",
              "      <td id=\"T_16429_row3_col9\" class=\"data row3 col9\" >0.712928</td>\n",
              "    </tr>\n",
              "    <tr>\n",
              "      <th id=\"T_16429_level0_row4\" class=\"row_heading level0 row4\" >AdaBoosted Decision Tree</th>\n",
              "      <td id=\"T_16429_row4_col0\" class=\"data row4 col0\" >0.711578</td>\n",
              "      <td id=\"T_16429_row4_col1\" class=\"data row4 col1\" >0.702307</td>\n",
              "      <td id=\"T_16429_row4_col2\" class=\"data row4 col2\" >0.172694</td>\n",
              "      <td id=\"T_16429_row4_col3\" class=\"data row4 col3\" >0.158032</td>\n",
              "      <td id=\"T_16429_row4_col4\" class=\"data row4 col4\" >0.677953</td>\n",
              "      <td id=\"T_16429_row4_col5\" class=\"data row4 col5\" >0.623762</td>\n",
              "      <td id=\"T_16429_row4_col6\" class=\"data row4 col6\" >0.275270</td>\n",
              "      <td id=\"T_16429_row4_col7\" class=\"data row4 col7\" >0.252175</td>\n",
              "      <td id=\"T_16429_row4_col8\" class=\"data row4 col8\" >0.758932</td>\n",
              "      <td id=\"T_16429_row4_col9\" class=\"data row4 col9\" >0.721342</td>\n",
              "    </tr>\n",
              "    <tr>\n",
              "      <th id=\"T_16429_level0_row5\" class=\"row_heading level0 row5\" >Random Forest</th>\n",
              "      <td id=\"T_16429_row5_col0\" class=\"data row5 col0\" >0.999967</td>\n",
              "      <td id=\"T_16429_row5_col1\" class=\"data row5 col1\" >0.919532</td>\n",
              "      <td id=\"T_16429_row5_col2\" class=\"data row5 col2\" >1.000000</td>\n",
              "      <td id=\"T_16429_row5_col3\" class=\"data row5 col3\" >0.500000</td>\n",
              "      <td id=\"T_16429_row5_col4\" class=\"data row5 col4\" >0.999598</td>\n",
              "      <td id=\"T_16429_row5_col5\" class=\"data row5 col5\" >0.001819</td>\n",
              "      <td id=\"T_16429_row5_col6\" class=\"data row5 col6\" >0.999799</td>\n",
              "      <td id=\"T_16429_row5_col7\" class=\"data row5 col7\" >0.003624</td>\n",
              "      <td id=\"T_16429_row5_col8\" class=\"data row5 col8\" >1.000000</td>\n",
              "      <td id=\"T_16429_row5_col9\" class=\"data row5 col9\" >0.736460</td>\n",
              "    </tr>\n",
              "    <tr>\n",
              "      <th id=\"T_16429_level0_row6\" class=\"row_heading level0 row6\" >Random Forest CV</th>\n",
              "      <td id=\"T_16429_row6_col0\" class=\"data row6 col0\" >0.719192</td>\n",
              "      <td id=\"T_16429_row6_col1\" class=\"data row6 col1\" >0.711185</td>\n",
              "      <td id=\"T_16429_row6_col2\" class=\"data row6 col2\" >0.177501</td>\n",
              "      <td id=\"T_16429_row6_col3\" class=\"data row6 col3\" >0.166128</td>\n",
              "      <td id=\"T_16429_row6_col4\" class=\"data row6 col4\" >0.681274</td>\n",
              "      <td id=\"T_16429_row6_col5\" class=\"data row6 col5\" >0.644171</td>\n",
              "      <td id=\"T_16429_row6_col6\" class=\"data row6 col6\" >0.281626</td>\n",
              "      <td id=\"T_16429_row6_col7\" class=\"data row6 col7\" >0.264137</td>\n",
              "      <td id=\"T_16429_row6_col8\" class=\"data row6 col8\" >0.770360</td>\n",
              "      <td id=\"T_16429_row6_col9\" class=\"data row6 col9\" >0.743152</td>\n",
              "    </tr>\n",
              "    <tr>\n",
              "      <th id=\"T_16429_level0_row7\" class=\"row_heading level0 row7\" >Histogram-based Gradient Boosting Tree</th>\n",
              "      <td id=\"T_16429_row7_col0\" class=\"data row7 col0\" >0.728249</td>\n",
              "      <td id=\"T_16429_row7_col1\" class=\"data row7 col1\" >0.715380</td>\n",
              "      <td id=\"T_16429_row7_col2\" class=\"data row7 col2\" >0.192635</td>\n",
              "      <td id=\"T_16429_row7_col3\" class=\"data row7 col3\" >0.174917</td>\n",
              "      <td id=\"T_16429_row7_col4\" class=\"data row7 col4\" >0.740642</td>\n",
              "      <td id=\"T_16429_row7_col5\" class=\"data row7 col5\" >0.682562</td>\n",
              "      <td id=\"T_16429_row7_col6\" class=\"data row7 col6\" >0.305748</td>\n",
              "      <td id=\"T_16429_row7_col7\" class=\"data row7 col7\" >0.278472</td>\n",
              "      <td id=\"T_16429_row7_col8\" class=\"data row7 col8\" >0.812410</td>\n",
              "      <td id=\"T_16429_row7_col9\" class=\"data row7 col9\" >0.769900</td>\n",
              "    </tr>\n",
              "    <tr>\n",
              "      <th id=\"T_16429_level0_row8\" class=\"row_heading level0 row8\" >XGBoost</th>\n",
              "      <td id=\"T_16429_row8_col0\" class=\"data row8 col0\" >0.925974</td>\n",
              "      <td id=\"T_16429_row8_col1\" class=\"data row8 col1\" >0.918638</td>\n",
              "      <td id=\"T_16429_row8_col2\" class=\"data row8 col2\" >0.812617</td>\n",
              "      <td id=\"T_16429_row8_col3\" class=\"data row8 col3\" >0.450980</td>\n",
              "      <td id=\"T_16429_row8_col4\" class=\"data row8 col4\" >0.108875</td>\n",
              "      <td id=\"T_16429_row8_col5\" class=\"data row8 col5\" >0.051121</td>\n",
              "      <td id=\"T_16429_row8_col6\" class=\"data row8 col6\" >0.192023</td>\n",
              "      <td id=\"T_16429_row8_col7\" class=\"data row8 col7\" >0.091833</td>\n",
              "      <td id=\"T_16429_row8_col8\" class=\"data row8 col8\" >0.866603</td>\n",
              "      <td id=\"T_16429_row8_col9\" class=\"data row8 col9\" >0.760074</td>\n",
              "    </tr>\n",
              "    <tr>\n",
              "      <th id=\"T_16429_level0_row9\" class=\"row_heading level0 row9\" >XGBoost Random Forest</th>\n",
              "      <td id=\"T_16429_row9_col0\" class=\"data row9 col0\" >0.964757</td>\n",
              "      <td id=\"T_16429_row9_col1\" class=\"data row9 col1\" >0.907647</td>\n",
              "      <td id=\"T_16429_row9_col2\" class=\"data row9 col2\" >0.873086</td>\n",
              "      <td id=\"T_16429_row9_col3\" class=\"data row9 col3\" >0.345455</td>\n",
              "      <td id=\"T_16429_row9_col4\" class=\"data row9 col4\" >0.659690</td>\n",
              "      <td id=\"T_16429_row9_col5\" class=\"data row9 col5\" >0.165084</td>\n",
              "      <td id=\"T_16429_row9_col6\" class=\"data row9 col6\" >0.751533</td>\n",
              "      <td id=\"T_16429_row9_col7\" class=\"data row9 col7\" >0.223407</td>\n",
              "      <td id=\"T_16429_row9_col8\" class=\"data row9 col8\" >0.988605</td>\n",
              "      <td id=\"T_16429_row9_col9\" class=\"data row9 col9\" >0.745909</td>\n",
              "    </tr>\n",
              "    <tr>\n",
              "      <th id=\"T_16429_level0_row10\" class=\"row_heading level0 row10\" >Gaussian</th>\n",
              "      <td id=\"T_16429_row10_col0\" class=\"data row10 col0\" >0.108545</td>\n",
              "      <td id=\"T_16429_row10_col1\" class=\"data row10 col1\" >0.108856</td>\n",
              "      <td id=\"T_16429_row10_col2\" class=\"data row10 col2\" >0.081954</td>\n",
              "      <td id=\"T_16429_row10_col3\" class=\"data row10 col3\" >0.081713</td>\n",
              "      <td id=\"T_16429_row10_col4\" class=\"data row10 col4\" >0.983498</td>\n",
              "      <td id=\"T_16429_row10_col5\" class=\"data row10 col5\" >0.984037</td>\n",
              "      <td id=\"T_16429_row10_col6\" class=\"data row10 col6\" >0.151300</td>\n",
              "      <td id=\"T_16429_row10_col7\" class=\"data row10 col7\" >0.150895</td>\n",
              "      <td id=\"T_16429_row10_col8\" class=\"data row10 col8\" >0.517714</td>\n",
              "      <td id=\"T_16429_row10_col9\" class=\"data row10 col9\" >0.518487</td>\n",
              "    </tr>\n",
              "    <tr>\n",
              "      <th id=\"T_16429_level0_row11\" class=\"row_heading level0 row11\" >Bernoulli</th>\n",
              "      <td id=\"T_16429_row11_col0\" class=\"data row11 col0\" >0.866504</td>\n",
              "      <td id=\"T_16429_row11_col1\" class=\"data row11 col1\" >0.865763</td>\n",
              "      <td id=\"T_16429_row11_col2\" class=\"data row11 col2\" >0.194351</td>\n",
              "      <td id=\"T_16429_row11_col3\" class=\"data row11 col3\" >0.193057</td>\n",
              "      <td id=\"T_16429_row11_col4\" class=\"data row11 col4\" >0.207386</td>\n",
              "      <td id=\"T_16429_row11_col5\" class=\"data row11 col5\" >0.210143</td>\n",
              "      <td id=\"T_16429_row11_col6\" class=\"data row11 col6\" >0.200657</td>\n",
              "      <td id=\"T_16429_row11_col7\" class=\"data row11 col7\" >0.201238</td>\n",
              "      <td id=\"T_16429_row11_col8\" class=\"data row11 col8\" >0.680752</td>\n",
              "      <td id=\"T_16429_row11_col9\" class=\"data row11 col9\" >0.680338</td>\n",
              "    </tr>\n",
              "    <tr>\n",
              "      <th id=\"T_16429_level0_row12\" class=\"row_heading level0 row12\" >Stacked Classifier</th>\n",
              "      <td id=\"T_16429_row12_col0\" class=\"data row12 col0\" >1.000000</td>\n",
              "      <td id=\"T_16429_row12_col1\" class=\"data row12 col1\" >0.919354</td>\n",
              "      <td id=\"T_16429_row12_col2\" class=\"data row12 col2\" >1.000000</td>\n",
              "      <td id=\"T_16429_row12_col3\" class=\"data row12 col3\" >0.476987</td>\n",
              "      <td id=\"T_16429_row12_col4\" class=\"data row12 col4\" >1.000000</td>\n",
              "      <td id=\"T_16429_row12_col5\" class=\"data row12 col5\" >0.023035</td>\n",
              "      <td id=\"T_16429_row12_col6\" class=\"data row12 col6\" >1.000000</td>\n",
              "      <td id=\"T_16429_row12_col7\" class=\"data row12 col7\" >0.043948</td>\n",
              "      <td id=\"T_16429_row12_col8\" class=\"data row12 col8\" >1.000000</td>\n",
              "      <td id=\"T_16429_row12_col9\" class=\"data row12 col9\" >0.735550</td>\n",
              "    </tr>\n",
              "    <tr>\n",
              "      <th id=\"T_16429_level0_row13\" class=\"row_heading level0 row13\" >Calibrated Classifier</th>\n",
              "      <td id=\"T_16429_row13_col0\" class=\"data row13 col0\" >1.000000</td>\n",
              "      <td id=\"T_16429_row13_col1\" class=\"data row13 col1\" >0.918589</td>\n",
              "      <td id=\"T_16429_row13_col2\" class=\"data row13 col2\" >1.000000</td>\n",
              "      <td id=\"T_16429_row13_col3\" class=\"data row13 col3\" >0.440816</td>\n",
              "      <td id=\"T_16429_row13_col4\" class=\"data row13 col4\" >1.000000</td>\n",
              "      <td id=\"T_16429_row13_col5\" class=\"data row13 col5\" >0.043645</td>\n",
              "      <td id=\"T_16429_row13_col6\" class=\"data row13 col6\" >1.000000</td>\n",
              "      <td id=\"T_16429_row13_col7\" class=\"data row13 col7\" >0.079426</td>\n",
              "      <td id=\"T_16429_row13_col8\" class=\"data row13 col8\" >1.000000</td>\n",
              "      <td id=\"T_16429_row13_col9\" class=\"data row13 col9\" >0.735550</td>\n",
              "    </tr>\n",
              "  </tbody>\n",
              "</table>\n"
            ],
            "text/plain": [
              "<pandas.io.formats.style.Styler at 0x30cefa180>"
            ]
          },
          "execution_count": 112,
          "metadata": {},
          "output_type": "execute_result"
        }
      ],
      "source": [
        "calibrated_clf_results.style.background_gradient()"
      ]
    },
    {
      "cell_type": "markdown",
      "metadata": {
        "id": "0i1ciGBRhefN"
      },
      "source": [
        "# Export and Submission"
      ]
    },
    {
      "cell_type": "markdown",
      "metadata": {},
      "source": [
        "## Import test data and preliminary merge"
      ]
    },
    {
      "cell_type": "code",
      "execution_count": 113,
      "metadata": {},
      "outputs": [],
      "source": [
        "test_data_file = \"application_test.csv\"\n",
        "application_test = pd.read_csv(input_path + test_data_file)\n",
        "\n",
        "bureau_loans_and_balances = pd.read_csv(lib_path + \"bureau_loans_and_balances.csv\")\n",
        "\n",
        "installments_payments = pd.read_csv(input_path + \"installments_payments.csv\")\n",
        "POS_CASH_balance = pd.read_csv(input_path + \"POS_CASH_balance.csv\")\n",
        "credit_card_balance = pd.read_csv(input_path + \"credit_card_balance.csv\")\n",
        "\n",
        "application_test = pd.merge(application_test, bureau_loans_and_balances, how=\"left\", on=\"SK_ID_CURR\")\n",
        "\n",
        "idx = pd.DataFrame(application_test['SK_ID_CURR'])\n"
      ]
    },
    {
      "cell_type": "markdown",
      "metadata": {},
      "source": [
        "## Processing"
      ]
    },
    {
      "cell_type": "code",
      "execution_count": 114,
      "metadata": {},
      "outputs": [],
      "source": [
        "# INSTALL steps\n",
        "installments_payments.drop(columns=\"SK_ID_PREV\", inplace=True)\n",
        "installments_payments.columns = [col + \"_INSTALL\" for col in installments_payments.columns]\n",
        "merge_INSTALL = pd.merge(idx, installments_payments, how=\"inner\", left_on=\"SK_ID_CURR\", right_on=\"SK_ID_CURR_INSTALL\")\n",
        "merge_INSTALL.drop(columns=\"SK_ID_CURR_INSTALL\", inplace=True)\n",
        "merge_INSTALL = merge_INSTALL.sort_values(by=\"NUM_INSTALMENT_NUMBER_INSTALL\", ascending=False).drop_duplicates(subset=[\"SK_ID_CURR\"])\n",
        "\n",
        "# POS steps\n",
        "POS_CASH_balance.drop(columns=\"SK_ID_PREV\", inplace=True)\n",
        "POS_CASH_balance.columns = [col + \"_POS\" for col in POS_CASH_balance.columns]\n",
        "merge_POS = pd.merge(idx, POS_CASH_balance, how=\"inner\", left_on=\"SK_ID_CURR\", right_on=\"SK_ID_CURR_POS\")\n",
        "merge_POS.drop(columns=\"SK_ID_CURR_POS\", inplace=True)\n",
        "merge_POS = merge_POS.sort_values(by=\"MONTHS_BALANCE_POS\", ascending=False).drop_duplicates(subset=[\"SK_ID_CURR\"])\n",
        "\n",
        "# CC step\n",
        "credit_card_balance.drop(columns=\"SK_ID_PREV\", inplace=True)\n",
        "credit_card_balance.columns = [col + \"_CC\" for col in credit_card_balance.columns]\n",
        "merge_CC = pd.merge(idx, credit_card_balance, how=\"inner\", left_on=\"SK_ID_CURR\", right_on=\"SK_ID_CURR_CC\")\n",
        "merge_CC.drop(columns=\"SK_ID_CURR_CC\", inplace=True)\n",
        "merge_CC = merge_CC.sort_values(by=\"MONTHS_BALANCE_CC\", ascending=False).drop_duplicates(subset=[\"SK_ID_CURR\"])\n",
        "\n",
        "# Merge down filtered data\n",
        "balances_and_payments = pd.merge(merge_INSTALL, merge_POS, how=\"outer\", left_on=\"SK_ID_CURR\", right_on=\"SK_ID_CURR\")\n",
        "balances_and_payments = pd.merge(balances_and_payments, merge_CC, how=\"outer\", left_on=\"SK_ID_CURR\", right_on=\"SK_ID_CURR\")\n",
        "\n",
        "# Drop object columns\n",
        "# balances_and_payments.select_dtypes(include=\"object\")\n",
        "balances_and_payments.drop(labels=[\"NAME_CONTRACT_STATUS_POS\", \"NAME_CONTRACT_STATUS_CC\"], axis=1, inplace=True)\n",
        "\n",
        "# Merge down onto test file\n",
        "application_test = pd.merge(application_test, balances_and_payments, how=\"left\", on=\"SK_ID_CURR\")"
      ]
    },
    {
      "cell_type": "code",
      "execution_count": 115,
      "metadata": {},
      "outputs": [],
      "source": [
        "# pop off index ids\n",
        "ids = application_test.pop(\"SK_ID_CURR\")\n",
        "\n",
        "# transform data\n",
        "application_test = preprocessor.transform(application_test)\n",
        "\n",
        "# drop columns with collinear relationships (Pearson's correlation coefficients > 0.8)\n",
        "application_test.drop(columns=non_co_cols, inplace=True)\n"
      ]
    },
    {
      "cell_type": "markdown",
      "metadata": {},
      "source": [
        "## Output"
      ]
    },
    {
      "cell_type": "code",
      "execution_count": 116,
      "metadata": {},
      "outputs": [
        {
          "name": "stderr",
          "output_type": "stream",
          "text": [
            "/opt/anaconda3/envs/datascience/lib/python3.12/site-packages/sklearn/utils/validation.py:2732: UserWarning: X has feature names, but LogisticRegression was fitted without feature names\n",
            "  warnings.warn(\n"
          ]
        }
      ],
      "source": [
        "# make predictions\n",
        "preds = stacked_clf.predict_proba(application_test)[:,1]\n",
        "\n",
        "output = pd.DataFrame({\"SK_ID_CURR\": ids,\n",
        "                       \"TARGET\": preds})"
      ]
    },
    {
      "cell_type": "code",
      "execution_count": 117,
      "metadata": {},
      "outputs": [
        {
          "data": {
            "text/html": [
              "<div>\n",
              "<style scoped>\n",
              "    .dataframe tbody tr th:only-of-type {\n",
              "        vertical-align: middle;\n",
              "    }\n",
              "\n",
              "    .dataframe tbody tr th {\n",
              "        vertical-align: top;\n",
              "    }\n",
              "\n",
              "    .dataframe thead th {\n",
              "        text-align: right;\n",
              "    }\n",
              "</style>\n",
              "<table border=\"1\" class=\"dataframe\">\n",
              "  <thead>\n",
              "    <tr style=\"text-align: right;\">\n",
              "      <th></th>\n",
              "      <th>SK_ID_CURR</th>\n",
              "      <th>TARGET</th>\n",
              "    </tr>\n",
              "  </thead>\n",
              "  <tbody>\n",
              "    <tr>\n",
              "      <th>0</th>\n",
              "      <td>100001</td>\n",
              "      <td>0.000363</td>\n",
              "    </tr>\n",
              "    <tr>\n",
              "      <th>1</th>\n",
              "      <td>100005</td>\n",
              "      <td>0.000985</td>\n",
              "    </tr>\n",
              "    <tr>\n",
              "      <th>2</th>\n",
              "      <td>100013</td>\n",
              "      <td>0.000231</td>\n",
              "    </tr>\n",
              "    <tr>\n",
              "      <th>3</th>\n",
              "      <td>100028</td>\n",
              "      <td>0.000230</td>\n",
              "    </tr>\n",
              "    <tr>\n",
              "      <th>4</th>\n",
              "      <td>100038</td>\n",
              "      <td>0.017802</td>\n",
              "    </tr>\n",
              "    <tr>\n",
              "      <th>...</th>\n",
              "      <td>...</td>\n",
              "      <td>...</td>\n",
              "    </tr>\n",
              "    <tr>\n",
              "      <th>48739</th>\n",
              "      <td>456221</td>\n",
              "      <td>0.000147</td>\n",
              "    </tr>\n",
              "    <tr>\n",
              "      <th>48740</th>\n",
              "      <td>456222</td>\n",
              "      <td>0.000608</td>\n",
              "    </tr>\n",
              "    <tr>\n",
              "      <th>48741</th>\n",
              "      <td>456223</td>\n",
              "      <td>0.000116</td>\n",
              "    </tr>\n",
              "    <tr>\n",
              "      <th>48742</th>\n",
              "      <td>456224</td>\n",
              "      <td>0.000389</td>\n",
              "    </tr>\n",
              "    <tr>\n",
              "      <th>48743</th>\n",
              "      <td>456250</td>\n",
              "      <td>0.002341</td>\n",
              "    </tr>\n",
              "  </tbody>\n",
              "</table>\n",
              "<p>48744 rows × 2 columns</p>\n",
              "</div>"
            ],
            "text/plain": [
              "       SK_ID_CURR    TARGET\n",
              "0          100001  0.000363\n",
              "1          100005  0.000985\n",
              "2          100013  0.000231\n",
              "3          100028  0.000230\n",
              "4          100038  0.017802\n",
              "...           ...       ...\n",
              "48739      456221  0.000147\n",
              "48740      456222  0.000608\n",
              "48741      456223  0.000116\n",
              "48742      456224  0.000389\n",
              "48743      456250  0.002341\n",
              "\n",
              "[48744 rows x 2 columns]"
            ]
          },
          "execution_count": 117,
          "metadata": {},
          "output_type": "execute_result"
        }
      ],
      "source": [
        "output"
      ]
    },
    {
      "cell_type": "markdown",
      "metadata": {
        "id": "D8XomzSqhefN"
      },
      "source": [
        "## Export"
      ]
    },
    {
      "cell_type": "code",
      "execution_count": 120,
      "metadata": {
        "colab": {
          "base_uri": "https://localhost:8080/",
          "height": 201
        },
        "id": "Wv-YdXQ2hefN",
        "outputId": "19e55608-6f37-45e9-e563-828e41ef1ab1"
      },
      "outputs": [
        {
          "data": {
            "text/html": [
              "<div>\n",
              "<style scoped>\n",
              "    .dataframe tbody tr th:only-of-type {\n",
              "        vertical-align: middle;\n",
              "    }\n",
              "\n",
              "    .dataframe tbody tr th {\n",
              "        vertical-align: top;\n",
              "    }\n",
              "\n",
              "    .dataframe thead th {\n",
              "        text-align: right;\n",
              "    }\n",
              "</style>\n",
              "<table border=\"1\" class=\"dataframe\">\n",
              "  <thead>\n",
              "    <tr style=\"text-align: right;\">\n",
              "      <th></th>\n",
              "      <th>SK_ID_CURR</th>\n",
              "      <th>TARGET</th>\n",
              "    </tr>\n",
              "  </thead>\n",
              "  <tbody>\n",
              "    <tr>\n",
              "      <th>0</th>\n",
              "      <td>100001</td>\n",
              "      <td>0.000363</td>\n",
              "    </tr>\n",
              "    <tr>\n",
              "      <th>1</th>\n",
              "      <td>100005</td>\n",
              "      <td>0.000985</td>\n",
              "    </tr>\n",
              "    <tr>\n",
              "      <th>2</th>\n",
              "      <td>100013</td>\n",
              "      <td>0.000231</td>\n",
              "    </tr>\n",
              "    <tr>\n",
              "      <th>3</th>\n",
              "      <td>100028</td>\n",
              "      <td>0.000230</td>\n",
              "    </tr>\n",
              "    <tr>\n",
              "      <th>4</th>\n",
              "      <td>100038</td>\n",
              "      <td>0.017802</td>\n",
              "    </tr>\n",
              "  </tbody>\n",
              "</table>\n",
              "</div>"
            ],
            "text/plain": [
              "   SK_ID_CURR    TARGET\n",
              "0      100001  0.000363\n",
              "1      100005  0.000985\n",
              "2      100013  0.000231\n",
              "3      100028  0.000230\n",
              "4      100038  0.017802"
            ]
          },
          "execution_count": 120,
          "metadata": {},
          "output_type": "execute_result"
        }
      ],
      "source": [
        "sample_submission_file = \"sample_submission.csv\"\n",
        "sample_submission_df = pd.read_csv(input_path + sample_submission_file)\n",
        "sample_submission_df[\"TARGET\"] = preds\n",
        "sample_submission_df.to_csv(\"02_reset.csv\", index=False)\n",
        "sample_submission_df.head()"
      ]
    },
    {
      "cell_type": "markdown",
      "metadata": {},
      "source": [
        "# saving elements to src folder for future use"
      ]
    },
    {
      "cell_type": "code",
      "execution_count": 119,
      "metadata": {},
      "outputs": [
        {
          "data": {
            "text/plain": [
              "['../srcmodelling.joblib']"
            ]
          },
          "execution_count": 119,
          "metadata": {},
          "output_type": "execute_result"
        }
      ],
      "source": [
        "# saving model to lib folder for future use\n",
        "to_save = {\"model\" : calibrated_clf}\n",
        "joblib_filename = \"modelling.joblib\"\n",
        "\n",
        "joblib.dump(to_save, src_path + joblib_filename)"
      ]
    }
  ],
  "metadata": {
    "colab": {
      "provenance": []
    },
    "kernelspec": {
      "display_name": "datascience",
      "language": "python",
      "name": "python3"
    },
    "language_info": {
      "codemirror_mode": {
        "name": "ipython",
        "version": 3
      },
      "file_extension": ".py",
      "mimetype": "text/x-python",
      "name": "python",
      "nbconvert_exporter": "python",
      "pygments_lexer": "ipython3",
      "version": "3.12.9"
    }
  },
  "nbformat": 4,
  "nbformat_minor": 0
}
