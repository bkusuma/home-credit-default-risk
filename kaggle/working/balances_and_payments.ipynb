{
 "cells": [
  {
   "cell_type": "code",
   "execution_count": 1,
   "metadata": {},
   "outputs": [],
   "source": [
    "import pandas as pd\n",
    "pd.set_option(\"display.max_columns\", 200)\n",
    "\n",
    "import numpy as np\n",
    "\n",
    "import matplotlib.pyplot as plt\n",
    "\n",
    "import seaborn as sns"
   ]
  },
  {
   "cell_type": "code",
   "execution_count": 2,
   "metadata": {},
   "outputs": [],
   "source": [
    "input_path = \"../../kaggle/input/home-credit-default-risk/\" # on local machine\n",
    "# input_path = \"/kaggle/input/home-credit-default-risk/\" # on Kaggle\n",
    "\n",
    "installments_payments = pd.read_csv(input_path + \"installments_payments.csv\")\n",
    "POS_CASH_balance = pd.read_csv(input_path + \"POS_CASH_balance.csv\")\n",
    "credit_card_balance = pd.read_csv(input_path + \"credit_card_balance.csv\")\n"
   ]
  },
  {
   "cell_type": "code",
   "execution_count": 3,
   "metadata": {},
   "outputs": [],
   "source": [
    "installments_payments.drop(columns=\"SK_ID_PREV\", inplace=True)\n",
    "POS_CASH_balance.drop(columns=\"SK_ID_PREV\", inplace=True)\n",
    "credit_card_balance.drop(columns=\"SK_ID_PREV\", inplace=True)"
   ]
  },
  {
   "cell_type": "code",
   "execution_count": 4,
   "metadata": {},
   "outputs": [],
   "source": [
    "POS_CASH_balance.columns = [col + \"_POS\" for col in POS_CASH_balance.columns]\n",
    "credit_card_balance.columns = [col + \"_CC\" for col in credit_card_balance.columns]"
   ]
  },
  {
   "cell_type": "code",
   "execution_count": 5,
   "metadata": {},
   "outputs": [
    {
     "ename": "",
     "evalue": "",
     "output_type": "error",
     "traceback": [
      "\u001b[1;31mThe Kernel crashed while executing code in the current cell or a previous cell. \n",
      "\u001b[1;31mPlease review the code in the cell(s) to identify a possible cause of the failure. \n",
      "\u001b[1;31mClick <a href='https://aka.ms/vscodeJupyterKernelCrash'>here</a> for more info. \n",
      "\u001b[1;31mView Jupyter <a href='command:jupyter.viewOutput'>log</a> for further details."
     ]
    }
   ],
   "source": [
    "balances_and_payments = pd.merge(installments_payments, credit_card_balance, how=\"left\", left_on=\"SK_ID_CURR\", right_on=\"SK_ID_CURR_CC\")"
   ]
  },
  {
   "cell_type": "code",
   "execution_count": null,
   "metadata": {},
   "outputs": [],
   "source": [
    "balances_and_payments = pd.merge(balances_and_payments, credit_card_balance, how=\"left\", left_on=\"SK_ID_CURR\", right_on=\"SK_ID_CURR_CC\")"
   ]
  },
  {
   "cell_type": "code",
   "execution_count": null,
   "metadata": {},
   "outputs": [],
   "source": [
    "balances_and_payments.drop"
   ]
  },
  {
   "cell_type": "code",
   "execution_count": null,
   "metadata": {},
   "outputs": [],
   "source": [
    "credit_card_balance"
   ]
  },
  {
   "cell_type": "code",
   "execution_count": null,
   "metadata": {},
   "outputs": [],
   "source": [
    "application_train = pd.merge(application_train, bureau, how=\"left\", on=\"SK_ID_CURR\")\n",
    "application_train = application_train.drop_duplicates(subset=[\"SK_ID_CURR\"])\n",
    "application_train = pd.merge(application_train, previous_application, how=\"left\", on=\"SK_ID_CURR\")\n",
    "application_train = application_train.drop_duplicates(subset=[\"SK_ID_CURR\"])\n",
    "application_train = pd.merge(application_train, POS_CASH_balance, how=\"left\", on=\"SK_ID_CURR\")\n",
    "application_train = application_train.drop_duplicates(subset=[\"SK_ID_CURR\"])\n",
    "application_train = pd.merge(application_train, credit_card_balance, how=\"left\", on=\"SK_ID_CURR\")\n",
    "application_train = application_train.drop_duplicates(subset=[\"SK_ID_CURR\"])"
   ]
  },
  {
   "cell_type": "code",
   "execution_count": null,
   "metadata": {},
   "outputs": [],
   "source": [
    "# saving preprocessor for future use\n",
    "to_save = {\"preprocessor\" : preprocessor,\n",
    "           \"porch_func\" : porch_func}\n",
    "filename = \"preprocessor.joblib\"\n",
    "\n",
    "joblib.dump(to_save, filename)"
   ]
  },
  {
   "cell_type": "code",
   "execution_count": null,
   "metadata": {},
   "outputs": [],
   "source": [
    "import shap"
   ]
  },
  {
   "cell_type": "code",
   "execution_count": null,
   "metadata": {},
   "outputs": [],
   "source": []
  }
 ],
 "metadata": {
  "kernelspec": {
   "display_name": "datascience",
   "language": "python",
   "name": "python3"
  },
  "language_info": {
   "codemirror_mode": {
    "name": "ipython",
    "version": 3
   },
   "file_extension": ".py",
   "mimetype": "text/x-python",
   "name": "python",
   "nbconvert_exporter": "python",
   "pygments_lexer": "ipython3",
   "version": "3.12.9"
  }
 },
 "nbformat": 4,
 "nbformat_minor": 2
}
