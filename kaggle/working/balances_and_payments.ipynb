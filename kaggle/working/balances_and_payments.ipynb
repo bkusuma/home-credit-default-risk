{
  "cells": [
    {
      "cell_type": "code",
      "source": [
        "# # First \t1\tEnable GPU Runtime:\n",
        "# \t•\tGo to \"Runtime\" -> \"Change runtime type\".\n",
        "# \t•\tSelect \"GPU\" as the hardware accelerator.\n",
        "# \t•\tClick \"Save\"."
      ],
      "metadata": {
        "id": "-ybmF7o-zZCK"
      },
      "execution_count": 33,
      "outputs": []
    },
    {
      "cell_type": "code",
      "source": [
        "# # Install a specific CUDA version\n",
        "# !apt-get --purge remove cuda nvidia* libnvidia-*\n",
        "# !dpkg -l | grep cuda- | awk '{print $2}' | xargs -n1 dpkg --purge\n",
        "# !apt-get remove cuda-*\n",
        "# !apt autoremove\n",
        "# !apt-get update\n",
        "\n",
        "# # Install CUDA 11.x\n",
        "# !wget https://developer.download.nvidia.com/compute/cuda/repos/ubuntu1804/x86_64/cuda-ubuntu1804.pin\n",
        "# !mv cuda-ubuntu1804.pin /etc/apt/preferences.d/cuda-repository-pin-600\n",
        "# !wget https://developer.download.nvidia.com/compute/cuda/11.8.0/local_installers/cuda-repo-ubuntu1804-11-8-local_11.8.0-520.61.05-1_amd64.deb\n",
        "# !dpkg -i cuda-repo-ubuntu1804-11-8-local_11.8.0-520.61.05-1_amd64.deb\n",
        "# !cp /var/cuda-repo-ubuntu1804-11-8-local/cuda-*-*.pub /tmp/cuda-*-*.pub\n",
        "# !apt-key add /tmp/cuda-*-*.pub\n",
        "# !apt-get update\n",
        "# !apt-get -y install cuda"
      ],
      "metadata": {
        "id": "49pbpSjqzC0L"
      },
      "execution_count": 34,
      "outputs": []
    },
    {
      "cell_type": "code",
      "source": [
        "# !pip install cudf-cu11 --extra-index-url=https://pypi.nvidia.com"
      ],
      "metadata": {
        "id": "wQV8rC6GzQ_C"
      },
      "execution_count": 35,
      "outputs": []
    },
    {
      "cell_type": "code",
      "source": [
        "# import cudf  # this should work without any errors"
      ],
      "metadata": {
        "id": "HgnFqgI2ufH8"
      },
      "execution_count": 36,
      "outputs": []
    },
    {
      "cell_type": "code",
      "source": [
        "# %load_ext cudf.pandas\n",
        "# # Google Colab: Add `%load_ext cudf.pandas` before importing pandas to speed up operations using GPU (musr first choose runtime that is a GPU)"
      ],
      "metadata": {
        "id": "PJoaeCh_unHY"
      },
      "execution_count": 37,
      "outputs": []
    },
    {
      "cell_type": "code",
      "execution_count": 38,
      "metadata": {
        "id": "ysLOT3yFoo_r"
      },
      "outputs": [],
      "source": [
        "import pandas as pd\n",
        "pd.set_option(\"display.max_columns\", 200)\n",
        "\n",
        "import numpy as np\n",
        "\n",
        "import matplotlib.pyplot as plt\n",
        "\n",
        "import seaborn as sns"
      ]
    },
    {
      "cell_type": "code",
      "source": [
        "# # Clone the entire repo.\n",
        "# !git clone -l -s git://github.com/jakevdp/PythonDataScienceHandbook.git cloned-repo\n",
        "# %cd cloned-repo\n",
        "# !ls"
      ],
      "metadata": {
        "id": "lAkxQ8fWqMUH"
      },
      "execution_count": 39,
      "outputs": []
    },
    {
      "cell_type": "code",
      "source": [
        "# # Fetch a single <1MB file using the raw GitHub URL.\n",
        "# !curl --remote-name \\\n",
        "#      -H 'Accept: application/vnd.github.v3.raw' \\\n",
        "#      --location https://api.github.com/repos/jakevdp/PythonDataScienceHandbook/contents/notebooks/data/california_cities.csv"
      ],
      "metadata": {
        "id": "zVnAhRhKqMUH"
      },
      "execution_count": 40,
      "outputs": []
    },
    {
      "cell_type": "code",
      "source": [
        "from google.colab import drive\n",
        "drive.mount('/content/drive')"
      ],
      "metadata": {
        "id": "sIXXbxl8peiF",
        "outputId": "2394aba4-fb2c-4834-bbc6-534b44dcf11a",
        "colab": {
          "base_uri": "https://localhost:8080/"
        }
      },
      "execution_count": 41,
      "outputs": [
        {
          "output_type": "stream",
          "name": "stdout",
          "text": [
            "Drive already mounted at /content/drive; to attempt to forcibly remount, call drive.mount(\"/content/drive\", force_remount=True).\n"
          ]
        }
      ]
    },
    {
      "cell_type": "code",
      "source": [
        "# # Load the Drive helper and mount\n",
        "# from google.colab import drive\n",
        "\n",
        "# # This will prompt for authorization.\n",
        "# drive.mount('/content/drive')"
      ],
      "metadata": {
        "id": "Lqjqgxliw0CF"
      },
      "execution_count": 42,
      "outputs": []
    },
    {
      "cell_type": "code",
      "source": [
        "# # After executing the cell above, Drive\n",
        "# # files will be present in \"/content/drive/My Drive\".\n",
        "# !ls \"/content/drive/My Drive\""
      ],
      "metadata": {
        "id": "E3ieKY_4x-e8"
      },
      "execution_count": 43,
      "outputs": []
    },
    {
      "cell_type": "code",
      "execution_count": 44,
      "metadata": {
        "id": "lOFpPSOZoo_s"
      },
      "outputs": [],
      "source": [
        "# input_path = \"../../kaggle/input/home-credit-default-risk/\" # on local machine\n",
        "# input_path = \"/kaggle/input/home-credit-default-risk/\" # Kaggle\n",
        "input_path = \"/content/drive/MyDrive/kaggle/input/home-credit-default-risk/\" # Google Colab\n",
        "\n",
        "\n",
        "installments_payments = pd.read_csv(input_path + \"installments_payments.csv\")\n",
        "POS_CASH_balance = pd.read_csv(input_path + \"POS_CASH_balance.csv\")\n",
        "credit_card_balance = pd.read_csv(input_path + \"credit_card_balance.csv\")\n",
        "application_train = pd.read_csv(input_path + \"application_train.csv\")\n",
        "idx = pd.DataFrame(application_train['SK_ID_CURR'])"
      ]
    },
    {
      "cell_type": "code",
      "source": [
        "# INSTALL pipeline\n",
        "installments_payments.drop(columns=\"SK_ID_PREV\", inplace=True)\n",
        "installments_payments.columns = [col + \"_INSTALL\" for col in installments_payments.columns]\n",
        "merge_INSTALL = pd.merge(idx, installments_payments, how=\"inner\", left_on=\"SK_ID_CURR\", right_on=\"SK_ID_CURR_INSTALL\")\n",
        "merge_INSTALL.drop(columns=\"SK_ID_CURR_INSTALL\", inplace=True)\n",
        "merge_INSTALL = merge_INSTALL.sort_values(by=\"NUM_INSTALMENT_NUMBER_INSTALL\", ascending=False).drop_duplicates(subset=[\"SK_ID_CURR\"])\n",
        "\n",
        "# POS pipeline\n",
        "POS_CASH_balance.drop(columns=\"SK_ID_PREV\", inplace=True)\n",
        "POS_CASH_balance.columns = [col + \"_POS\" for col in POS_CASH_balance.columns]\n",
        "merge_POS = pd.merge(idx, POS_CASH_balance, how=\"inner\", left_on=\"SK_ID_CURR\", right_on=\"SK_ID_CURR_POS\")\n",
        "merge_POS.drop(columns=\"SK_ID_CURR_POS\", inplace=True)\n",
        "merge_POS = merge_POS.sort_values(by=\"MONTHS_BALANCE_POS\", ascending=False).drop_duplicates(subset=[\"SK_ID_CURR\"])\n",
        "\n",
        "# CC pipeline\n",
        "credit_card_balance.drop(columns=\"SK_ID_PREV\", inplace=True)\n",
        "credit_card_balance.columns = [col + \"_CC\" for col in credit_card_balance.columns]\n",
        "merge_CC = pd.merge(idx, credit_card_balance, how=\"inner\", left_on=\"SK_ID_CURR\", right_on=\"SK_ID_CURR_CC\")\n",
        "merge_CC.drop(columns=\"SK_ID_CURR_CC\", inplace=True)\n",
        "merge_CC = merge_CC.sort_values(by=\"MONTHS_BALANCE_CC\", ascending=False).drop_duplicates(subset=[\"SK_ID_CURR\"])\n",
        "\n",
        "# Merge down\n",
        "balances_and_payments = pd.merge(merge_INSTALL, merge_POS, how=\"outer\", left_on=\"SK_ID_CURR\", right_on=\"SK_ID_CURR\")\n",
        "balances_and_payments = pd.merge(balances_and_payments, merge_CC, how=\"outer\", left_on=\"SK_ID_CURR\", right_on=\"SK_ID_CURR\")\n",
        "\n",
        "# Drop object columns\n",
        "# balances_and_payments.select_dtypes(include=\"object\")\n",
        "balances_and_payments.drop(labels=[\"NAME_CONTRACT_STATUS_POS\", \"NAME_CONTRACT_STATUS_CC\"], axis=1, inplace=True)"
      ],
      "metadata": {
        "id": "UJCAti3j_8g9"
      },
      "execution_count": 47,
      "outputs": []
    },
    {
      "cell_type": "code",
      "execution_count": 57,
      "metadata": {
        "id": "Irxf_kEloo_u"
      },
      "outputs": [],
      "source": [
        "balances_and_payments.to_csv(\"balances_and_payments.csv\", index=False) # export for use in primary notebook"
      ]
    }
  ],
  "metadata": {
    "kernelspec": {
      "display_name": "Python 3",
      "name": "python3"
    },
    "language_info": {
      "codemirror_mode": {
        "name": "ipython",
        "version": 3
      },
      "file_extension": ".py",
      "mimetype": "text/x-python",
      "name": "python",
      "nbconvert_exporter": "python",
      "pygments_lexer": "ipython3",
      "version": "3.12.9"
    },
    "colab": {
      "provenance": []
    }
  },
  "nbformat": 4,
  "nbformat_minor": 0
}